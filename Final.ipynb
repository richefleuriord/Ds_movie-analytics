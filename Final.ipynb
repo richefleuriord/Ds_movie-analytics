{
 "cells": [
  {
   "cell_type": "markdown",
   "metadata": {},
   "source": [
    "# **AKADEMI EDUCATION – First Cohort  (2025): Data Science & AI**\n",
    "#### *2nd Project: Scientific Computing & Quantitative Methods - Phase 2*"
   ]
  },
  {
   "cell_type": "markdown",
   "metadata": {},
   "source": [
    "**Student name: Riché FLEURINORD**   \n",
    "**Student pace: self paced**  \n",
    "**Deadline Submission: July 20, 2025**  \n",
    "**Instructors' Names: Wedter JEROME & Geovany Batista Polo LAGUERRE**  \n",
    "**Blog post URL (GitHub Repository Link): https://github.com/richefleuriord/Ds_movie-analytics.git**"
   ]
  },
  {
   "cell_type": "markdown",
   "metadata": {},
   "source": [
    "# **Project Title**"
   ]
  },
  {
   "cell_type": "markdown",
   "metadata": {},
   "source": [
    "**Data-Driven Insights for a Successful Movie Studio: Analyzing Key Box Office Drivers**"
   ]
  },
  {
   "cell_type": "markdown",
   "metadata": {},
   "source": [
    "![Bannière aviation](images/image4.jpeg)"
   ]
  },
  {
   "cell_type": "markdown",
   "metadata": {},
   "source": [
    "# *Overview*"
   ]
  },
  {
   "cell_type": "markdown",
   "metadata": {},
   "source": [
    "*This data science project analyzes movie industry datasets from Box Office Mojo and IMDB to support strategic decision-making for a new movie studio. Through data cleaning, exploration, visualization, and statistical reasoning, the goal is to identify the key factors driving box office success. The project aims to generate actionable insights for business stakeholders to guide future investments in film production. Key areas of focus include genre performance, audience ratings, and movie characteristics associated with higher revenues.*"
   ]
  },
  {
   "cell_type": "markdown",
   "metadata": {},
   "source": [
    "# *Business Problem*"
   ]
  },
  {
   "cell_type": "markdown",
   "metadata": {},
   "source": [
    "![Bannière aviation](images/image5.jpeg)"
   ]
  },
  {
   "cell_type": "markdown",
   "metadata": {},
   "source": [
    "To support a strategic investment in the entertainment industry, this project focuses on analyzing historical box office data to identify the types of films most likely to succeed commercially. With the rise of companies creating their own original video content, our fictional company is planning to launch a new movie studio but lacks experience in the movie production sector.\n",
    "\n",
    "This analysis is designed to answer a key business question: What types of films tend to perform best at the box office?\n",
    "Through a data-driven approach, the objective is to generate clear and actionable insights to guide strategic decisions on the genres, characteristics, and profiles of films the company should prioritize to maximize revenue potential.\n",
    "\n",
    "The final recommendations will help business stakeholders make informed decisions to reduce financial risks and increase the likelihood of success in this highly competitive industry."
   ]
  },
  {
   "cell_type": "markdown",
   "metadata": {},
   "source": [
    "# *1-Data Understanding*"
   ]
  },
  {
   "cell_type": "markdown",
   "metadata": {},
   "source": [
    "The datasets used in this project mainly come from IMDB (SQLite database) and The Numbers, providing essential complementary information to analyze film box office performance and identify key success factors in the film industry.\n",
    "\n",
    "A - IMDB (im.db - SQLite database)\n",
    "\n",
    "This relational database offers a vast amount of metadata on films. For this project, the following tables are particularly relevant:\n",
    "\n",
    "- movie_basics: titles, genres, runtimes, and release years\n",
    "\n",
    "- movie_ratings: user ratings and number of votes\n",
    "\n",
    "These data help capture audience preferences as well as the general characteristics of successful films.\n",
    "\n",
    "B - The Numbers (tm.movie_budgets.csv.gz)\n",
    "\n",
    "This dataset provides crucial information on production budgets and film revenues, notably:\n",
    "\n",
    "- production budgets\n",
    "\n",
    "- opening weekend revenues\n",
    "\n",
    "- total domestic and worldwide revenues\n",
    "\n",
    "Integrating this dataset strengthens the analysis by allowing comparison between budget, commercial performance, and profitability.\n",
    "\n",
    "**Objectives of this stage**\n",
    "\n",
    "The main objectives of this data understanding phase are:\n",
    "\n",
    "- Explore the structure of each dataset (formats, tables, variables)\n",
    "\n",
    "- Identify key variables for analysis (genres, ratings, revenues, budgets, etc.)\n",
    "\n",
    "- Detect missing or inconsistent data and plan appropriate cleaning steps\n",
    "\n",
    "- Build a clear and robust understanding of the data to guide exploratory analysis and formulate operational recommendations"
   ]
  },
  {
   "cell_type": "markdown",
   "metadata": {},
   "source": [
    "![Bannière aviation](images/image6.jpeg)"
   ]
  },
  {
   "cell_type": "markdown",
   "metadata": {},
   "source": [
    "## **1.1 Importing the necessary libraries**"
   ]
  },
  {
   "cell_type": "code",
   "execution_count": 2,
   "metadata": {},
   "outputs": [],
   "source": [
    "import itertools\n",
    "import numpy as np\n",
    "import pandas as pd \n",
    "from numbers import Number\n",
    "import sqlite3\n",
    "from scipy import stats\n",
    "from scipy.stats import pearsonr, spearmanr\n",
    "import matplotlib.pyplot as plt\n",
    "import seaborn as sns\n",
    "sns.set(style=\"whitegrid\")\n",
    "import statsmodels.api as sm\n",
    "import re\n",
    "import warnings\n",
    "warnings.filterwarnings('ignore')"
   ]
  },
  {
   "cell_type": "markdown",
   "metadata": {},
   "source": [
    "## **1.2 Connect to the Database**"
   ]
  },
  {
   "cell_type": "code",
   "execution_count": 3,
   "metadata": {},
   "outputs": [],
   "source": [
    "conn = sqlite3.connect('data/im.db')"
   ]
  },
  {
   "cell_type": "markdown",
   "metadata": {},
   "source": [
    "## **1.3 tables in the database**"
   ]
  },
  {
   "cell_type": "code",
   "execution_count": 4,
   "metadata": {},
   "outputs": [
    {
     "data": {
      "text/html": [
       "<div>\n",
       "<style scoped>\n",
       "    .dataframe tbody tr th:only-of-type {\n",
       "        vertical-align: middle;\n",
       "    }\n",
       "\n",
       "    .dataframe tbody tr th {\n",
       "        vertical-align: top;\n",
       "    }\n",
       "\n",
       "    .dataframe thead th {\n",
       "        text-align: right;\n",
       "    }\n",
       "</style>\n",
       "<table border=\"1\" class=\"dataframe\">\n",
       "  <thead>\n",
       "    <tr style=\"text-align: right;\">\n",
       "      <th></th>\n",
       "      <th>type</th>\n",
       "      <th>name</th>\n",
       "      <th>tbl_name</th>\n",
       "      <th>rootpage</th>\n",
       "      <th>sql</th>\n",
       "    </tr>\n",
       "  </thead>\n",
       "  <tbody>\n",
       "    <tr>\n",
       "      <th>0</th>\n",
       "      <td>table</td>\n",
       "      <td>movie_basics</td>\n",
       "      <td>movie_basics</td>\n",
       "      <td>2</td>\n",
       "      <td>CREATE TABLE \"movie_basics\" (\\n\"movie_id\" TEXT...</td>\n",
       "    </tr>\n",
       "    <tr>\n",
       "      <th>1</th>\n",
       "      <td>table</td>\n",
       "      <td>directors</td>\n",
       "      <td>directors</td>\n",
       "      <td>3</td>\n",
       "      <td>CREATE TABLE \"directors\" (\\n\"movie_id\" TEXT,\\n...</td>\n",
       "    </tr>\n",
       "    <tr>\n",
       "      <th>2</th>\n",
       "      <td>table</td>\n",
       "      <td>known_for</td>\n",
       "      <td>known_for</td>\n",
       "      <td>4</td>\n",
       "      <td>CREATE TABLE \"known_for\" (\\n\"person_id\" TEXT,\\...</td>\n",
       "    </tr>\n",
       "    <tr>\n",
       "      <th>3</th>\n",
       "      <td>table</td>\n",
       "      <td>movie_akas</td>\n",
       "      <td>movie_akas</td>\n",
       "      <td>5</td>\n",
       "      <td>CREATE TABLE \"movie_akas\" (\\n\"movie_id\" TEXT,\\...</td>\n",
       "    </tr>\n",
       "    <tr>\n",
       "      <th>4</th>\n",
       "      <td>table</td>\n",
       "      <td>movie_ratings</td>\n",
       "      <td>movie_ratings</td>\n",
       "      <td>6</td>\n",
       "      <td>CREATE TABLE \"movie_ratings\" (\\n\"movie_id\" TEX...</td>\n",
       "    </tr>\n",
       "    <tr>\n",
       "      <th>5</th>\n",
       "      <td>table</td>\n",
       "      <td>persons</td>\n",
       "      <td>persons</td>\n",
       "      <td>7</td>\n",
       "      <td>CREATE TABLE \"persons\" (\\n\"person_id\" TEXT,\\n ...</td>\n",
       "    </tr>\n",
       "    <tr>\n",
       "      <th>6</th>\n",
       "      <td>table</td>\n",
       "      <td>principals</td>\n",
       "      <td>principals</td>\n",
       "      <td>8</td>\n",
       "      <td>CREATE TABLE \"principals\" (\\n\"movie_id\" TEXT,\\...</td>\n",
       "    </tr>\n",
       "    <tr>\n",
       "      <th>7</th>\n",
       "      <td>table</td>\n",
       "      <td>writers</td>\n",
       "      <td>writers</td>\n",
       "      <td>9</td>\n",
       "      <td>CREATE TABLE \"writers\" (\\n\"movie_id\" TEXT,\\n  ...</td>\n",
       "    </tr>\n",
       "  </tbody>\n",
       "</table>\n",
       "</div>"
      ],
      "text/plain": [
       "    type           name       tbl_name  rootpage  \\\n",
       "0  table   movie_basics   movie_basics         2   \n",
       "1  table      directors      directors         3   \n",
       "2  table      known_for      known_for         4   \n",
       "3  table     movie_akas     movie_akas         5   \n",
       "4  table  movie_ratings  movie_ratings         6   \n",
       "5  table        persons        persons         7   \n",
       "6  table     principals     principals         8   \n",
       "7  table        writers        writers         9   \n",
       "\n",
       "                                                 sql  \n",
       "0  CREATE TABLE \"movie_basics\" (\\n\"movie_id\" TEXT...  \n",
       "1  CREATE TABLE \"directors\" (\\n\"movie_id\" TEXT,\\n...  \n",
       "2  CREATE TABLE \"known_for\" (\\n\"person_id\" TEXT,\\...  \n",
       "3  CREATE TABLE \"movie_akas\" (\\n\"movie_id\" TEXT,\\...  \n",
       "4  CREATE TABLE \"movie_ratings\" (\\n\"movie_id\" TEX...  \n",
       "5  CREATE TABLE \"persons\" (\\n\"person_id\" TEXT,\\n ...  \n",
       "6  CREATE TABLE \"principals\" (\\n\"movie_id\" TEXT,\\...  \n",
       "7  CREATE TABLE \"writers\" (\\n\"movie_id\" TEXT,\\n  ...  "
      ]
     },
     "execution_count": 4,
     "metadata": {},
     "output_type": "execute_result"
    }
   ],
   "source": [
    "df = pd.read_sql(\n",
    "    \"\"\"\n",
    "    SELECT *\n",
    "    FROM sqlite_master\n",
    "    \"\"\"\n",
    ", conn\n",
    ")\n",
    "\n",
    "df[df['type'] == 'table']\n"
   ]
  },
  {
   "cell_type": "markdown",
   "metadata": {},
   "source": [
    "## **1.4 Loading the dataset**"
   ]
  },
  {
   "cell_type": "code",
   "execution_count": 5,
   "metadata": {},
   "outputs": [],
   "source": [
    "df2 = pd.read_csv(\"data/tn.movie_budgets.csv.gz\", encoding= \"ISO-8859-1\", low_memory=False)"
   ]
  },
  {
   "cell_type": "markdown",
   "metadata": {},
   "source": [
    "## **1.5 Overview of the df2 dataset**"
   ]
  },
  {
   "cell_type": "code",
   "execution_count": 6,
   "metadata": {},
   "outputs": [
    {
     "data": {
      "text/html": [
       "<div>\n",
       "<style scoped>\n",
       "    .dataframe tbody tr th:only-of-type {\n",
       "        vertical-align: middle;\n",
       "    }\n",
       "\n",
       "    .dataframe tbody tr th {\n",
       "        vertical-align: top;\n",
       "    }\n",
       "\n",
       "    .dataframe thead th {\n",
       "        text-align: right;\n",
       "    }\n",
       "</style>\n",
       "<table border=\"1\" class=\"dataframe\">\n",
       "  <thead>\n",
       "    <tr style=\"text-align: right;\">\n",
       "      <th></th>\n",
       "      <th>id</th>\n",
       "      <th>release_date</th>\n",
       "      <th>movie</th>\n",
       "      <th>production_budget</th>\n",
       "      <th>domestic_gross</th>\n",
       "      <th>worldwide_gross</th>\n",
       "    </tr>\n",
       "  </thead>\n",
       "  <tbody>\n",
       "    <tr>\n",
       "      <th>0</th>\n",
       "      <td>1</td>\n",
       "      <td>Dec 18, 2009</td>\n",
       "      <td>Avatar</td>\n",
       "      <td>$425,000,000</td>\n",
       "      <td>$760,507,625</td>\n",
       "      <td>$2,776,345,279</td>\n",
       "    </tr>\n",
       "    <tr>\n",
       "      <th>1</th>\n",
       "      <td>2</td>\n",
       "      <td>May 20, 2011</td>\n",
       "      <td>Pirates of the Caribbean: On Stranger Tides</td>\n",
       "      <td>$410,600,000</td>\n",
       "      <td>$241,063,875</td>\n",
       "      <td>$1,045,663,875</td>\n",
       "    </tr>\n",
       "    <tr>\n",
       "      <th>2</th>\n",
       "      <td>3</td>\n",
       "      <td>Jun 7, 2019</td>\n",
       "      <td>Dark Phoenix</td>\n",
       "      <td>$350,000,000</td>\n",
       "      <td>$42,762,350</td>\n",
       "      <td>$149,762,350</td>\n",
       "    </tr>\n",
       "    <tr>\n",
       "      <th>3</th>\n",
       "      <td>4</td>\n",
       "      <td>May 1, 2015</td>\n",
       "      <td>Avengers: Age of Ultron</td>\n",
       "      <td>$330,600,000</td>\n",
       "      <td>$459,005,868</td>\n",
       "      <td>$1,403,013,963</td>\n",
       "    </tr>\n",
       "    <tr>\n",
       "      <th>4</th>\n",
       "      <td>5</td>\n",
       "      <td>Dec 15, 2017</td>\n",
       "      <td>Star Wars Ep. VIII: The Last Jedi</td>\n",
       "      <td>$317,000,000</td>\n",
       "      <td>$620,181,382</td>\n",
       "      <td>$1,316,721,747</td>\n",
       "    </tr>\n",
       "    <tr>\n",
       "      <th>5</th>\n",
       "      <td>6</td>\n",
       "      <td>Dec 18, 2015</td>\n",
       "      <td>Star Wars Ep. VII: The Force Awakens</td>\n",
       "      <td>$306,000,000</td>\n",
       "      <td>$936,662,225</td>\n",
       "      <td>$2,053,311,220</td>\n",
       "    </tr>\n",
       "    <tr>\n",
       "      <th>6</th>\n",
       "      <td>7</td>\n",
       "      <td>Apr 27, 2018</td>\n",
       "      <td>Avengers: Infinity War</td>\n",
       "      <td>$300,000,000</td>\n",
       "      <td>$678,815,482</td>\n",
       "      <td>$2,048,134,200</td>\n",
       "    </tr>\n",
       "    <tr>\n",
       "      <th>7</th>\n",
       "      <td>8</td>\n",
       "      <td>May 24, 2007</td>\n",
       "      <td>Pirates of the Caribbean: At WorldÃ¢ÂÂs End</td>\n",
       "      <td>$300,000,000</td>\n",
       "      <td>$309,420,425</td>\n",
       "      <td>$963,420,425</td>\n",
       "    </tr>\n",
       "    <tr>\n",
       "      <th>8</th>\n",
       "      <td>9</td>\n",
       "      <td>Nov 17, 2017</td>\n",
       "      <td>Justice League</td>\n",
       "      <td>$300,000,000</td>\n",
       "      <td>$229,024,295</td>\n",
       "      <td>$655,945,209</td>\n",
       "    </tr>\n",
       "    <tr>\n",
       "      <th>9</th>\n",
       "      <td>10</td>\n",
       "      <td>Nov 6, 2015</td>\n",
       "      <td>Spectre</td>\n",
       "      <td>$300,000,000</td>\n",
       "      <td>$200,074,175</td>\n",
       "      <td>$879,620,923</td>\n",
       "    </tr>\n",
       "  </tbody>\n",
       "</table>\n",
       "</div>"
      ],
      "text/plain": [
       "   id  release_date                                          movie  \\\n",
       "0   1  Dec 18, 2009                                         Avatar   \n",
       "1   2  May 20, 2011    Pirates of the Caribbean: On Stranger Tides   \n",
       "2   3   Jun 7, 2019                                   Dark Phoenix   \n",
       "3   4   May 1, 2015                        Avengers: Age of Ultron   \n",
       "4   5  Dec 15, 2017              Star Wars Ep. VIII: The Last Jedi   \n",
       "5   6  Dec 18, 2015           Star Wars Ep. VII: The Force Awakens   \n",
       "6   7  Apr 27, 2018                         Avengers: Infinity War   \n",
       "7   8  May 24, 2007  Pirates of the Caribbean: At WorldÃ¢ÂÂs End   \n",
       "8   9  Nov 17, 2017                                 Justice League   \n",
       "9  10   Nov 6, 2015                                        Spectre   \n",
       "\n",
       "  production_budget domestic_gross worldwide_gross  \n",
       "0      $425,000,000   $760,507,625  $2,776,345,279  \n",
       "1      $410,600,000   $241,063,875  $1,045,663,875  \n",
       "2      $350,000,000    $42,762,350    $149,762,350  \n",
       "3      $330,600,000   $459,005,868  $1,403,013,963  \n",
       "4      $317,000,000   $620,181,382  $1,316,721,747  \n",
       "5      $306,000,000   $936,662,225  $2,053,311,220  \n",
       "6      $300,000,000   $678,815,482  $2,048,134,200  \n",
       "7      $300,000,000   $309,420,425    $963,420,425  \n",
       "8      $300,000,000   $229,024,295    $655,945,209  \n",
       "9      $300,000,000   $200,074,175    $879,620,923  "
      ]
     },
     "execution_count": 6,
     "metadata": {},
     "output_type": "execute_result"
    }
   ],
   "source": [
    "df2.head(10)"
   ]
  },
  {
   "cell_type": "code",
   "execution_count": 7,
   "metadata": {},
   "outputs": [
    {
     "data": {
      "text/plain": [
       "(5782, 6)"
      ]
     },
     "execution_count": 7,
     "metadata": {},
     "output_type": "execute_result"
    }
   ],
   "source": [
    "df2.shape"
   ]
  },
  {
   "cell_type": "code",
   "execution_count": 8,
   "metadata": {},
   "outputs": [
    {
     "data": {
      "text/plain": [
       "Index(['id', 'release_date', 'movie', 'production_budget', 'domestic_gross',\n",
       "       'worldwide_gross'],\n",
       "      dtype='object')"
      ]
     },
     "execution_count": 8,
     "metadata": {},
     "output_type": "execute_result"
    }
   ],
   "source": [
    "df2.columns"
   ]
  },
  {
   "cell_type": "code",
   "execution_count": 9,
   "metadata": {},
   "outputs": [
    {
     "name": "stdout",
     "output_type": "stream",
     "text": [
      "<class 'pandas.core.frame.DataFrame'>\n",
      "RangeIndex: 5782 entries, 0 to 5781\n",
      "Data columns (total 6 columns):\n",
      " #   Column             Non-Null Count  Dtype \n",
      "---  ------             --------------  ----- \n",
      " 0   id                 5782 non-null   int64 \n",
      " 1   release_date       5782 non-null   object\n",
      " 2   movie              5782 non-null   object\n",
      " 3   production_budget  5782 non-null   object\n",
      " 4   domestic_gross     5782 non-null   object\n",
      " 5   worldwide_gross    5782 non-null   object\n",
      "dtypes: int64(1), object(5)\n",
      "memory usage: 271.2+ KB\n"
     ]
    }
   ],
   "source": [
    "df2.info()"
   ]
  },
  {
   "cell_type": "code",
   "execution_count": 10,
   "metadata": {},
   "outputs": [
    {
     "data": {
      "text/plain": [
       "worldwide_gross      0\n",
       "domestic_gross       0\n",
       "production_budget    0\n",
       "movie                0\n",
       "release_date         0\n",
       "id                   0\n",
       "dtype: int64"
      ]
     },
     "execution_count": 10,
     "metadata": {},
     "output_type": "execute_result"
    }
   ],
   "source": [
    "df2.isnull().sum().sort_values(ascending=False)"
   ]
  },
  {
   "cell_type": "code",
   "execution_count": 11,
   "metadata": {},
   "outputs": [
    {
     "data": {
      "text/plain": [
       "0"
      ]
     },
     "execution_count": 11,
     "metadata": {},
     "output_type": "execute_result"
    }
   ],
   "source": [
    "df2.duplicated().sum()"
   ]
  },
  {
   "cell_type": "markdown",
   "metadata": {},
   "source": [
    "The df2 dataset contains financial information on 5,782 films, organized into six columns. Each entry corresponds to a unique film, identified by an id, along with its release date, title (movie), and three key financial variables: production_budget, domestic_gross, and worldwide_gross. All columns are complete, with no missing values, although the financial columns are currently of object type due to their monetary formatting. This dataset serves as a valuable foundation for analyzing film profitability and exploring the relationships between budget and generated revenues."
   ]
  },
  {
   "cell_type": "markdown",
   "metadata": {},
   "source": [
    "## **1.6 Overview of the \"im.db\"database**"
   ]
  },
  {
   "cell_type": "markdown",
   "metadata": {},
   "source": [
    "![Bannière aviation](images/image7.jpeg)"
   ]
  },
  {
   "cell_type": "markdown",
   "metadata": {},
   "source": [
    "### **1.7 working with movie_basics table.**"
   ]
  },
  {
   "cell_type": "code",
   "execution_count": 12,
   "metadata": {},
   "outputs": [],
   "source": [
    "q1 = \"\"\"SELECT * FROM \n",
    "movie_basics;\"\"\"\n",
    "\n",
    "df3 = pd.read_sql(q1,conn)"
   ]
  },
  {
   "cell_type": "code",
   "execution_count": 13,
   "metadata": {},
   "outputs": [
    {
     "data": {
      "text/html": [
       "<div>\n",
       "<style scoped>\n",
       "    .dataframe tbody tr th:only-of-type {\n",
       "        vertical-align: middle;\n",
       "    }\n",
       "\n",
       "    .dataframe tbody tr th {\n",
       "        vertical-align: top;\n",
       "    }\n",
       "\n",
       "    .dataframe thead th {\n",
       "        text-align: right;\n",
       "    }\n",
       "</style>\n",
       "<table border=\"1\" class=\"dataframe\">\n",
       "  <thead>\n",
       "    <tr style=\"text-align: right;\">\n",
       "      <th></th>\n",
       "      <th>movie_id</th>\n",
       "      <th>primary_title</th>\n",
       "      <th>original_title</th>\n",
       "      <th>start_year</th>\n",
       "      <th>runtime_minutes</th>\n",
       "      <th>genres</th>\n",
       "    </tr>\n",
       "  </thead>\n",
       "  <tbody>\n",
       "    <tr>\n",
       "      <th>0</th>\n",
       "      <td>tt0063540</td>\n",
       "      <td>Sunghursh</td>\n",
       "      <td>Sunghursh</td>\n",
       "      <td>2013</td>\n",
       "      <td>175.0</td>\n",
       "      <td>Action,Crime,Drama</td>\n",
       "    </tr>\n",
       "    <tr>\n",
       "      <th>1</th>\n",
       "      <td>tt0066787</td>\n",
       "      <td>One Day Before the Rainy Season</td>\n",
       "      <td>Ashad Ka Ek Din</td>\n",
       "      <td>2019</td>\n",
       "      <td>114.0</td>\n",
       "      <td>Biography,Drama</td>\n",
       "    </tr>\n",
       "    <tr>\n",
       "      <th>2</th>\n",
       "      <td>tt0069049</td>\n",
       "      <td>The Other Side of the Wind</td>\n",
       "      <td>The Other Side of the Wind</td>\n",
       "      <td>2018</td>\n",
       "      <td>122.0</td>\n",
       "      <td>Drama</td>\n",
       "    </tr>\n",
       "    <tr>\n",
       "      <th>3</th>\n",
       "      <td>tt0069204</td>\n",
       "      <td>Sabse Bada Sukh</td>\n",
       "      <td>Sabse Bada Sukh</td>\n",
       "      <td>2018</td>\n",
       "      <td>NaN</td>\n",
       "      <td>Comedy,Drama</td>\n",
       "    </tr>\n",
       "    <tr>\n",
       "      <th>4</th>\n",
       "      <td>tt0100275</td>\n",
       "      <td>The Wandering Soap Opera</td>\n",
       "      <td>La Telenovela Errante</td>\n",
       "      <td>2017</td>\n",
       "      <td>80.0</td>\n",
       "      <td>Comedy,Drama,Fantasy</td>\n",
       "    </tr>\n",
       "  </tbody>\n",
       "</table>\n",
       "</div>"
      ],
      "text/plain": [
       "    movie_id                    primary_title              original_title  \\\n",
       "0  tt0063540                        Sunghursh                   Sunghursh   \n",
       "1  tt0066787  One Day Before the Rainy Season             Ashad Ka Ek Din   \n",
       "2  tt0069049       The Other Side of the Wind  The Other Side of the Wind   \n",
       "3  tt0069204                  Sabse Bada Sukh             Sabse Bada Sukh   \n",
       "4  tt0100275         The Wandering Soap Opera       La Telenovela Errante   \n",
       "\n",
       "   start_year  runtime_minutes                genres  \n",
       "0        2013            175.0    Action,Crime,Drama  \n",
       "1        2019            114.0       Biography,Drama  \n",
       "2        2018            122.0                 Drama  \n",
       "3        2018              NaN          Comedy,Drama  \n",
       "4        2017             80.0  Comedy,Drama,Fantasy  "
      ]
     },
     "execution_count": 13,
     "metadata": {},
     "output_type": "execute_result"
    }
   ],
   "source": [
    "df3.head(5)"
   ]
  },
  {
   "cell_type": "code",
   "execution_count": 14,
   "metadata": {},
   "outputs": [
    {
     "data": {
      "text/plain": [
       "(146144, 6)"
      ]
     },
     "execution_count": 14,
     "metadata": {},
     "output_type": "execute_result"
    }
   ],
   "source": [
    "df3.shape"
   ]
  },
  {
   "cell_type": "code",
   "execution_count": 15,
   "metadata": {},
   "outputs": [
    {
     "data": {
      "text/plain": [
       "Index(['movie_id', 'primary_title', 'original_title', 'start_year',\n",
       "       'runtime_minutes', 'genres'],\n",
       "      dtype='object')"
      ]
     },
     "execution_count": 15,
     "metadata": {},
     "output_type": "execute_result"
    }
   ],
   "source": [
    "df3.columns"
   ]
  },
  {
   "cell_type": "code",
   "execution_count": 16,
   "metadata": {},
   "outputs": [
    {
     "name": "stdout",
     "output_type": "stream",
     "text": [
      "<class 'pandas.core.frame.DataFrame'>\n",
      "RangeIndex: 146144 entries, 0 to 146143\n",
      "Data columns (total 6 columns):\n",
      " #   Column           Non-Null Count   Dtype  \n",
      "---  ------           --------------   -----  \n",
      " 0   movie_id         146144 non-null  object \n",
      " 1   primary_title    146144 non-null  object \n",
      " 2   original_title   146123 non-null  object \n",
      " 3   start_year       146144 non-null  int64  \n",
      " 4   runtime_minutes  114405 non-null  float64\n",
      " 5   genres           140736 non-null  object \n",
      "dtypes: float64(1), int64(1), object(4)\n",
      "memory usage: 6.7+ MB\n"
     ]
    }
   ],
   "source": [
    "df3.info()"
   ]
  },
  {
   "cell_type": "code",
   "execution_count": 17,
   "metadata": {},
   "outputs": [
    {
     "data": {
      "text/plain": [
       "0"
      ]
     },
     "execution_count": 17,
     "metadata": {},
     "output_type": "execute_result"
    }
   ],
   "source": [
    "df3.duplicated().sum()"
   ]
  },
  {
   "cell_type": "code",
   "execution_count": 18,
   "metadata": {},
   "outputs": [
    {
     "data": {
      "text/plain": [
       "runtime_minutes    31739\n",
       "genres              5408\n",
       "original_title        21\n",
       "start_year             0\n",
       "primary_title          0\n",
       "movie_id               0\n",
       "dtype: int64"
      ]
     },
     "execution_count": 18,
     "metadata": {},
     "output_type": "execute_result"
    }
   ],
   "source": [
    "df3.isnull().sum().sort_values(ascending=False)"
   ]
  },
  {
   "cell_type": "code",
   "execution_count": 19,
   "metadata": {},
   "outputs": [
    {
     "data": {
      "text/plain": [
       "runtime_minutes    21.717621\n",
       "genres              3.700460\n",
       "original_title      0.014369\n",
       "start_year          0.000000\n",
       "primary_title       0.000000\n",
       "movie_id            0.000000\n",
       "dtype: float64"
      ]
     },
     "execution_count": 19,
     "metadata": {},
     "output_type": "execute_result"
    }
   ],
   "source": [
    "missing_pct = df3.isnull().mean().sort_values(ascending=False) * 100\n",
    "missing_pct.head(6)"
   ]
  },
  {
   "cell_type": "markdown",
   "metadata": {},
   "source": [
    "The movie_basics table from the IMDB database provides fundamental information about a large number of movies, totaling 146,144 entries and 6 columns. The key variables include the movie’s unique identifier (movie_id), its primary_title and original_title, start_year, runtime_minutes, and genres.\n",
    "\n",
    "An initial analysis reveals the following:\n",
    "\n",
    "- Missing Data:\n",
    "\n",
    "   - runtime_minutes has approximately 21.7% missing values,\n",
    "\n",
    "   - genres has around 3.7% missing values,\n",
    "\n",
    "   - original_title contains very few missing values (0.01%).\n",
    "\n",
    "- Data Types: The columns include text (object), numerical (integer, float), and categorical data.\n",
    "\n",
    "- Duplicates: No duplicated rows were identified in the dataset.\n",
    "\n",
    "This exploratory step helps confirm the structure and completeness of the data, highlighting potential areas where cleaning or imputation may be necessary for accurate analysis in the next steps."
   ]
  },
  {
   "cell_type": "markdown",
   "metadata": {},
   "source": [
    "# **1.8 working with movie_ratings table.**"
   ]
  },
  {
   "cell_type": "code",
   "execution_count": 20,
   "metadata": {},
   "outputs": [],
   "source": [
    "q2 = \"\"\"SELECT * FROM \n",
    "movie_ratings;\"\"\"\n",
    "\n",
    "df4 = pd.read_sql(q2,conn)"
   ]
  },
  {
   "cell_type": "code",
   "execution_count": 21,
   "metadata": {},
   "outputs": [
    {
     "data": {
      "text/html": [
       "<div>\n",
       "<style scoped>\n",
       "    .dataframe tbody tr th:only-of-type {\n",
       "        vertical-align: middle;\n",
       "    }\n",
       "\n",
       "    .dataframe tbody tr th {\n",
       "        vertical-align: top;\n",
       "    }\n",
       "\n",
       "    .dataframe thead th {\n",
       "        text-align: right;\n",
       "    }\n",
       "</style>\n",
       "<table border=\"1\" class=\"dataframe\">\n",
       "  <thead>\n",
       "    <tr style=\"text-align: right;\">\n",
       "      <th></th>\n",
       "      <th>movie_id</th>\n",
       "      <th>averagerating</th>\n",
       "      <th>numvotes</th>\n",
       "    </tr>\n",
       "  </thead>\n",
       "  <tbody>\n",
       "    <tr>\n",
       "      <th>0</th>\n",
       "      <td>tt10356526</td>\n",
       "      <td>8.3</td>\n",
       "      <td>31</td>\n",
       "    </tr>\n",
       "    <tr>\n",
       "      <th>1</th>\n",
       "      <td>tt10384606</td>\n",
       "      <td>8.9</td>\n",
       "      <td>559</td>\n",
       "    </tr>\n",
       "    <tr>\n",
       "      <th>2</th>\n",
       "      <td>tt1042974</td>\n",
       "      <td>6.4</td>\n",
       "      <td>20</td>\n",
       "    </tr>\n",
       "    <tr>\n",
       "      <th>3</th>\n",
       "      <td>tt1043726</td>\n",
       "      <td>4.2</td>\n",
       "      <td>50352</td>\n",
       "    </tr>\n",
       "    <tr>\n",
       "      <th>4</th>\n",
       "      <td>tt1060240</td>\n",
       "      <td>6.5</td>\n",
       "      <td>21</td>\n",
       "    </tr>\n",
       "  </tbody>\n",
       "</table>\n",
       "</div>"
      ],
      "text/plain": [
       "     movie_id  averagerating  numvotes\n",
       "0  tt10356526            8.3        31\n",
       "1  tt10384606            8.9       559\n",
       "2   tt1042974            6.4        20\n",
       "3   tt1043726            4.2     50352\n",
       "4   tt1060240            6.5        21"
      ]
     },
     "execution_count": 21,
     "metadata": {},
     "output_type": "execute_result"
    }
   ],
   "source": [
    "df4.head(5)"
   ]
  },
  {
   "cell_type": "code",
   "execution_count": 22,
   "metadata": {},
   "outputs": [
    {
     "data": {
      "text/plain": [
       "(73856, 3)"
      ]
     },
     "execution_count": 22,
     "metadata": {},
     "output_type": "execute_result"
    }
   ],
   "source": [
    "df4.shape"
   ]
  },
  {
   "cell_type": "code",
   "execution_count": 23,
   "metadata": {},
   "outputs": [
    {
     "data": {
      "text/plain": [
       "Index(['movie_id', 'averagerating', 'numvotes'], dtype='object')"
      ]
     },
     "execution_count": 23,
     "metadata": {},
     "output_type": "execute_result"
    }
   ],
   "source": [
    "df4.columns"
   ]
  },
  {
   "cell_type": "code",
   "execution_count": 24,
   "metadata": {},
   "outputs": [
    {
     "name": "stdout",
     "output_type": "stream",
     "text": [
      "<class 'pandas.core.frame.DataFrame'>\n",
      "RangeIndex: 73856 entries, 0 to 73855\n",
      "Data columns (total 3 columns):\n",
      " #   Column         Non-Null Count  Dtype  \n",
      "---  ------         --------------  -----  \n",
      " 0   movie_id       73856 non-null  object \n",
      " 1   averagerating  73856 non-null  float64\n",
      " 2   numvotes       73856 non-null  int64  \n",
      "dtypes: float64(1), int64(1), object(1)\n",
      "memory usage: 1.7+ MB\n"
     ]
    }
   ],
   "source": [
    "df4.info()"
   ]
  },
  {
   "cell_type": "code",
   "execution_count": 25,
   "metadata": {},
   "outputs": [
    {
     "data": {
      "text/plain": [
       "0"
      ]
     },
     "execution_count": 25,
     "metadata": {},
     "output_type": "execute_result"
    }
   ],
   "source": [
    "df4.duplicated().sum()"
   ]
  },
  {
   "cell_type": "code",
   "execution_count": 26,
   "metadata": {},
   "outputs": [
    {
     "data": {
      "text/plain": [
       "numvotes         0\n",
       "averagerating    0\n",
       "movie_id         0\n",
       "dtype: int64"
      ]
     },
     "execution_count": 26,
     "metadata": {},
     "output_type": "execute_result"
    }
   ],
   "source": [
    "df4.isnull().sum().sort_values(ascending=False)"
   ]
  },
  {
   "cell_type": "markdown",
   "metadata": {},
   "source": [
    "The movie_ratings dataset provides key information about the popularity and perceived quality of movies through two main variables: average rating (averagerating) and number of votes (numvotes). It contains 73,856 rows and 3 columns: movie_id, averagerating, and numvotes.\n",
    "\n",
    "After verification, there are no missing values or duplicates in this dataset. The numerical columns are correctly typed (float64 for the average rating and int64 for the number of votes), making this dataset clean and ready for analysis. This data will be particularly valuable for enhancing further analyses related to movie performance."
   ]
  },
  {
   "cell_type": "markdown",
   "metadata": {},
   "source": [
    "# *2-Data Preparation*"
   ]
  },
  {
   "cell_type": "markdown",
   "metadata": {},
   "source": [
    "## *2.1 Working with the df2 dataset*"
   ]
  },
  {
   "cell_type": "markdown",
   "metadata": {},
   "source": [
    "## **2.1.1 Cleaning of Financial Data**"
   ]
  },
  {
   "cell_type": "code",
   "execution_count": 27,
   "metadata": {},
   "outputs": [],
   "source": [
    "cols_to_clean = ['production_budget', 'domestic_gross', 'worldwide_gross']\n",
    "for col in cols_to_clean:\n",
    "    df2[col] = df2[col].replace('[\\$,]', '', regex=True).astype(float)"
   ]
  },
  {
   "cell_type": "markdown",
   "metadata": {},
   "source": [
    "## **2.1.2 Conversion of Release Date**"
   ]
  },
  {
   "cell_type": "code",
   "execution_count": 28,
   "metadata": {},
   "outputs": [],
   "source": [
    "df2['release_date'] = pd.to_datetime(df2['release_date'])"
   ]
  },
  {
   "cell_type": "markdown",
   "metadata": {},
   "source": [
    "## **2.1.3 Creation of Useful Variables**"
   ]
  },
  {
   "cell_type": "code",
   "execution_count": 29,
   "metadata": {},
   "outputs": [],
   "source": [
    "df2['profit'] = df2['worldwide_gross'] - df2['production_budget']\n",
    "df2['release_year'] = df2['release_date'].dt.year"
   ]
  },
  {
   "cell_type": "code",
   "execution_count": 30,
   "metadata": {},
   "outputs": [],
   "source": [
    "df2['foreign_gross'] = df2['worldwide_gross'] - df2['domestic_gross']"
   ]
  },
  {
   "cell_type": "code",
   "execution_count": 31,
   "metadata": {},
   "outputs": [
    {
     "data": {
      "text/html": [
       "<div>\n",
       "<style scoped>\n",
       "    .dataframe tbody tr th:only-of-type {\n",
       "        vertical-align: middle;\n",
       "    }\n",
       "\n",
       "    .dataframe tbody tr th {\n",
       "        vertical-align: top;\n",
       "    }\n",
       "\n",
       "    .dataframe thead th {\n",
       "        text-align: right;\n",
       "    }\n",
       "</style>\n",
       "<table border=\"1\" class=\"dataframe\">\n",
       "  <thead>\n",
       "    <tr style=\"text-align: right;\">\n",
       "      <th></th>\n",
       "      <th>id</th>\n",
       "      <th>release_date</th>\n",
       "      <th>movie</th>\n",
       "      <th>production_budget</th>\n",
       "      <th>domestic_gross</th>\n",
       "      <th>worldwide_gross</th>\n",
       "      <th>profit</th>\n",
       "      <th>release_year</th>\n",
       "      <th>foreign_gross</th>\n",
       "    </tr>\n",
       "  </thead>\n",
       "  <tbody>\n",
       "    <tr>\n",
       "      <th>0</th>\n",
       "      <td>1</td>\n",
       "      <td>2009-12-18</td>\n",
       "      <td>Avatar</td>\n",
       "      <td>425000000.0</td>\n",
       "      <td>760507625.0</td>\n",
       "      <td>2.776345e+09</td>\n",
       "      <td>2.351345e+09</td>\n",
       "      <td>2009</td>\n",
       "      <td>2.015838e+09</td>\n",
       "    </tr>\n",
       "    <tr>\n",
       "      <th>1</th>\n",
       "      <td>2</td>\n",
       "      <td>2011-05-20</td>\n",
       "      <td>Pirates of the Caribbean: On Stranger Tides</td>\n",
       "      <td>410600000.0</td>\n",
       "      <td>241063875.0</td>\n",
       "      <td>1.045664e+09</td>\n",
       "      <td>6.350639e+08</td>\n",
       "      <td>2011</td>\n",
       "      <td>8.046000e+08</td>\n",
       "    </tr>\n",
       "    <tr>\n",
       "      <th>2</th>\n",
       "      <td>3</td>\n",
       "      <td>2019-06-07</td>\n",
       "      <td>Dark Phoenix</td>\n",
       "      <td>350000000.0</td>\n",
       "      <td>42762350.0</td>\n",
       "      <td>1.497624e+08</td>\n",
       "      <td>-2.002376e+08</td>\n",
       "      <td>2019</td>\n",
       "      <td>1.070000e+08</td>\n",
       "    </tr>\n",
       "    <tr>\n",
       "      <th>3</th>\n",
       "      <td>4</td>\n",
       "      <td>2015-05-01</td>\n",
       "      <td>Avengers: Age of Ultron</td>\n",
       "      <td>330600000.0</td>\n",
       "      <td>459005868.0</td>\n",
       "      <td>1.403014e+09</td>\n",
       "      <td>1.072414e+09</td>\n",
       "      <td>2015</td>\n",
       "      <td>9.440081e+08</td>\n",
       "    </tr>\n",
       "    <tr>\n",
       "      <th>4</th>\n",
       "      <td>5</td>\n",
       "      <td>2017-12-15</td>\n",
       "      <td>Star Wars Ep. VIII: The Last Jedi</td>\n",
       "      <td>317000000.0</td>\n",
       "      <td>620181382.0</td>\n",
       "      <td>1.316722e+09</td>\n",
       "      <td>9.997217e+08</td>\n",
       "      <td>2017</td>\n",
       "      <td>6.965404e+08</td>\n",
       "    </tr>\n",
       "  </tbody>\n",
       "</table>\n",
       "</div>"
      ],
      "text/plain": [
       "   id release_date                                        movie  \\\n",
       "0   1   2009-12-18                                       Avatar   \n",
       "1   2   2011-05-20  Pirates of the Caribbean: On Stranger Tides   \n",
       "2   3   2019-06-07                                 Dark Phoenix   \n",
       "3   4   2015-05-01                      Avengers: Age of Ultron   \n",
       "4   5   2017-12-15            Star Wars Ep. VIII: The Last Jedi   \n",
       "\n",
       "   production_budget  domestic_gross  worldwide_gross        profit  \\\n",
       "0        425000000.0     760507625.0     2.776345e+09  2.351345e+09   \n",
       "1        410600000.0     241063875.0     1.045664e+09  6.350639e+08   \n",
       "2        350000000.0      42762350.0     1.497624e+08 -2.002376e+08   \n",
       "3        330600000.0     459005868.0     1.403014e+09  1.072414e+09   \n",
       "4        317000000.0     620181382.0     1.316722e+09  9.997217e+08   \n",
       "\n",
       "   release_year  foreign_gross  \n",
       "0          2009   2.015838e+09  \n",
       "1          2011   8.046000e+08  \n",
       "2          2019   1.070000e+08  \n",
       "3          2015   9.440081e+08  \n",
       "4          2017   6.965404e+08  "
      ]
     },
     "execution_count": 31,
     "metadata": {},
     "output_type": "execute_result"
    }
   ],
   "source": [
    "df2.head(5)"
   ]
  },
  {
   "cell_type": "code",
   "execution_count": 32,
   "metadata": {},
   "outputs": [
    {
     "data": {
      "text/plain": [
       "0"
      ]
     },
     "execution_count": 32,
     "metadata": {},
     "output_type": "execute_result"
    }
   ],
   "source": [
    "df2.duplicated().sum() "
   ]
  },
  {
   "cell_type": "code",
   "execution_count": 33,
   "metadata": {},
   "outputs": [
    {
     "name": "stdout",
     "output_type": "stream",
     "text": [
      "<class 'pandas.core.frame.DataFrame'>\n",
      "RangeIndex: 5782 entries, 0 to 5781\n",
      "Data columns (total 9 columns):\n",
      " #   Column             Non-Null Count  Dtype         \n",
      "---  ------             --------------  -----         \n",
      " 0   id                 5782 non-null   int64         \n",
      " 1   release_date       5782 non-null   datetime64[ns]\n",
      " 2   movie              5782 non-null   object        \n",
      " 3   production_budget  5782 non-null   float64       \n",
      " 4   domestic_gross     5782 non-null   float64       \n",
      " 5   worldwide_gross    5782 non-null   float64       \n",
      " 6   profit             5782 non-null   float64       \n",
      " 7   release_year       5782 non-null   int64         \n",
      " 8   foreign_gross      5782 non-null   float64       \n",
      "dtypes: datetime64[ns](1), float64(5), int64(2), object(1)\n",
      "memory usage: 406.7+ KB\n"
     ]
    }
   ],
   "source": [
    "df2.info()"
   ]
  },
  {
   "cell_type": "markdown",
   "metadata": {},
   "source": [
    "The data preparation step for the df2 dataset helped structure the information in a way that is usable for analysis. Financial data was cleaned by removing currency symbols and converting the values into a numeric format. The release date variable was transformed into datetime format, making it easier to extract temporal information such as the release year. In addition, derived variables such as profit and release_year were created to enrich the analysis. A check for row uniqueness confirmed the absence of duplicates, and an inspection of variable types and completeness validated the overall quality of the dataset. This clean and structured foundation now serves as a solid base for the next steps of exploratory analysis and modeling."
   ]
  },
  {
   "cell_type": "markdown",
   "metadata": {},
   "source": [
    "## *2.2 Working with the df3 dataset*"
   ]
  },
  {
   "cell_type": "markdown",
   "metadata": {},
   "source": [
    "## **2.2.1 Cleaning of invalid values in categorical variables**"
   ]
  },
  {
   "cell_type": "code",
   "execution_count": 34,
   "metadata": {},
   "outputs": [],
   "source": [
    "categorical_cols = ['genres','original_title']\n",
    "\n",
    "\n",
    "invalid_values = ['Unknown', 'Unavailable', 'None', 'UNK', 'unknown', 'ANAVAILABLE', 'NONE', 'none',\\\n",
    "                 'unk', 'n/a', 'N/A', 'Unk', 'UNKNOWN','']\n",
    "\n",
    "for col in categorical_cols:\n",
    "    mode = df3[col].mode()[0]\n",
    "    df3[col] = df3[col].replace(invalid_values, np.nan)\n",
    "    df3[col].fillna(mode, inplace=True) "
   ]
  },
  {
   "cell_type": "code",
   "execution_count": 35,
   "metadata": {},
   "outputs": [
    {
     "data": {
      "text/plain": [
       "movie_id               0\n",
       "primary_title          0\n",
       "original_title         0\n",
       "start_year             0\n",
       "runtime_minutes    31739\n",
       "genres                 0\n",
       "dtype: int64"
      ]
     },
     "execution_count": 35,
     "metadata": {},
     "output_type": "execute_result"
    }
   ],
   "source": [
    "df3.isnull().sum()"
   ]
  },
  {
   "cell_type": "markdown",
   "metadata": {},
   "source": [
    "## **2.2.2 Imputation of missing values for numerical variable**"
   ]
  },
  {
   "cell_type": "code",
   "execution_count": 36,
   "metadata": {},
   "outputs": [],
   "source": [
    "df3['runtime_minutes'] = df3.groupby('genres')['runtime_minutes'].transform(lambda x: x.fillna(x.median()))"
   ]
  },
  {
   "cell_type": "code",
   "execution_count": 37,
   "metadata": {},
   "outputs": [],
   "source": [
    "df3['runtime_minutes'] = df3['runtime_minutes'].fillna(df3['runtime_minutes'].median())"
   ]
  },
  {
   "cell_type": "code",
   "execution_count": 38,
   "metadata": {},
   "outputs": [
    {
     "data": {
      "text/plain": [
       "movie_id           0\n",
       "primary_title      0\n",
       "original_title     0\n",
       "start_year         0\n",
       "runtime_minutes    0\n",
       "genres             0\n",
       "dtype: int64"
      ]
     },
     "execution_count": 38,
     "metadata": {},
     "output_type": "execute_result"
    }
   ],
   "source": [
    "df3.isnull().sum()"
   ]
  },
  {
   "cell_type": "markdown",
   "metadata": {},
   "source": [
    "The runtime_minutes column contained approximately 21.7% missing values. Since runtime is a critical attribute for understanding movie characteristics, we decided not to drop this column. Instead, we applied an imputation strategy by replacing missing values with the median runtime within each genre category. This ensures that the imputed values remain representative of the typical movie length for each genre.\n",
    "\n",
    "For genres where the median could not be calculated (due to all values being missing), we used the global median of the runtime_minutes column as a fallback. After this process, there are no missing values remaining in the dataset for this variable."
   ]
  },
  {
   "cell_type": "markdown",
   "metadata": {},
   "source": [
    "## *2.3 Working with the df4 dataset*"
   ]
  },
  {
   "cell_type": "code",
   "execution_count": 39,
   "metadata": {},
   "outputs": [
    {
     "name": "stdout",
     "output_type": "stream",
     "text": [
      "<class 'pandas.core.frame.DataFrame'>\n",
      "RangeIndex: 73856 entries, 0 to 73855\n",
      "Data columns (total 3 columns):\n",
      " #   Column         Non-Null Count  Dtype  \n",
      "---  ------         --------------  -----  \n",
      " 0   movie_id       73856 non-null  object \n",
      " 1   averagerating  73856 non-null  float64\n",
      " 2   numvotes       73856 non-null  int64  \n",
      "dtypes: float64(1), int64(1), object(1)\n",
      "memory usage: 1.7+ MB\n"
     ]
    }
   ],
   "source": [
    "df4.info()"
   ]
  },
  {
   "cell_type": "code",
   "execution_count": 40,
   "metadata": {},
   "outputs": [
    {
     "data": {
      "text/plain": [
       "0"
      ]
     },
     "execution_count": 40,
     "metadata": {},
     "output_type": "execute_result"
    }
   ],
   "source": [
    "df4.duplicated().sum()"
   ]
  },
  {
   "cell_type": "code",
   "execution_count": 41,
   "metadata": {},
   "outputs": [
    {
     "data": {
      "text/plain": [
       "movie_id         0\n",
       "averagerating    0\n",
       "numvotes         0\n",
       "dtype: int64"
      ]
     },
     "execution_count": 41,
     "metadata": {},
     "output_type": "execute_result"
    }
   ],
   "source": [
    "df4.isnull().sum()"
   ]
  },
  {
   "cell_type": "code",
   "execution_count": 42,
   "metadata": {},
   "outputs": [
    {
     "data": {
      "text/html": [
       "<div>\n",
       "<style scoped>\n",
       "    .dataframe tbody tr th:only-of-type {\n",
       "        vertical-align: middle;\n",
       "    }\n",
       "\n",
       "    .dataframe tbody tr th {\n",
       "        vertical-align: top;\n",
       "    }\n",
       "\n",
       "    .dataframe thead th {\n",
       "        text-align: right;\n",
       "    }\n",
       "</style>\n",
       "<table border=\"1\" class=\"dataframe\">\n",
       "  <thead>\n",
       "    <tr style=\"text-align: right;\">\n",
       "      <th></th>\n",
       "      <th>movie_id</th>\n",
       "      <th>averagerating</th>\n",
       "      <th>numvotes</th>\n",
       "    </tr>\n",
       "  </thead>\n",
       "  <tbody>\n",
       "    <tr>\n",
       "      <th>0</th>\n",
       "      <td>tt10356526</td>\n",
       "      <td>8.3</td>\n",
       "      <td>31</td>\n",
       "    </tr>\n",
       "    <tr>\n",
       "      <th>1</th>\n",
       "      <td>tt10384606</td>\n",
       "      <td>8.9</td>\n",
       "      <td>559</td>\n",
       "    </tr>\n",
       "    <tr>\n",
       "      <th>2</th>\n",
       "      <td>tt1042974</td>\n",
       "      <td>6.4</td>\n",
       "      <td>20</td>\n",
       "    </tr>\n",
       "    <tr>\n",
       "      <th>3</th>\n",
       "      <td>tt1043726</td>\n",
       "      <td>4.2</td>\n",
       "      <td>50352</td>\n",
       "    </tr>\n",
       "    <tr>\n",
       "      <th>4</th>\n",
       "      <td>tt1060240</td>\n",
       "      <td>6.5</td>\n",
       "      <td>21</td>\n",
       "    </tr>\n",
       "  </tbody>\n",
       "</table>\n",
       "</div>"
      ],
      "text/plain": [
       "     movie_id  averagerating  numvotes\n",
       "0  tt10356526            8.3        31\n",
       "1  tt10384606            8.9       559\n",
       "2   tt1042974            6.4        20\n",
       "3   tt1043726            4.2     50352\n",
       "4   tt1060240            6.5        21"
      ]
     },
     "execution_count": 42,
     "metadata": {},
     "output_type": "execute_result"
    }
   ],
   "source": [
    "df4.head()"
   ]
  },
  {
   "cell_type": "markdown",
   "metadata": {},
   "source": [
    "## *2.4 Final merging of the datasets*"
   ]
  },
  {
   "cell_type": "code",
   "execution_count": 43,
   "metadata": {},
   "outputs": [],
   "source": [
    "\n",
    "def normalize_title(title):\n",
    "    if pd.isna(title):\n",
    "        return \"\"  \n",
    "    title = title.lower()                    \n",
    "    title = re.sub(r'[^\\w\\s]', '', title)    \n",
    "    title = re.sub(r'\\s+', ' ', title)       \n",
    "    title = title.strip()                    \n",
    "    return title\n",
    "\n",
    "df2['movie_norm'] = df2['movie'].apply(normalize_title)\n",
    "df3['primary_title_norm'] = df3['primary_title'].apply(normalize_title)"
   ]
  },
  {
   "cell_type": "code",
   "execution_count": 44,
   "metadata": {},
   "outputs": [
    {
     "name": "stdout",
     "output_type": "stream",
     "text": [
      "Number of films after merging df1 and movie_basics: 4002\n"
     ]
    }
   ],
   "source": [
    "df_merged = pd.merge(df2, df3,\n",
    "                     left_on='movie_norm',\n",
    "                     right_on='primary_title_norm',\n",
    "                     how='inner',   \n",
    "                     suffixes=('_df2', '_3'))\n",
    "\n",
    "print(f\"Number of films after merging df1 and movie_basics: {df_merged.shape[0]}\")"
   ]
  },
  {
   "cell_type": "code",
   "execution_count": 45,
   "metadata": {},
   "outputs": [
    {
     "name": "stdout",
     "output_type": "stream",
     "text": [
      "Number of films after merging with movie_ratings: 3006\n"
     ]
    }
   ],
   "source": [
    "final_df = pd.merge(df_merged, df4,\n",
    "                    left_on='movie_id',\n",
    "                    right_on='movie_id',\n",
    "                    how='inner')  \n",
    "\n",
    "print(f\"Number of films after merging with movie_ratings: {final_df.shape[0]}\")"
   ]
  },
  {
   "cell_type": "code",
   "execution_count": 46,
   "metadata": {},
   "outputs": [
    {
     "data": {
      "text/plain": [
       "numvotes              0\n",
       "foreign_gross         0\n",
       "release_date          0\n",
       "movie                 0\n",
       "production_budget     0\n",
       "domestic_gross        0\n",
       "worldwide_gross       0\n",
       "profit                0\n",
       "release_year          0\n",
       "movie_norm            0\n",
       "averagerating         0\n",
       "movie_id              0\n",
       "primary_title         0\n",
       "original_title        0\n",
       "start_year            0\n",
       "runtime_minutes       0\n",
       "genres                0\n",
       "primary_title_norm    0\n",
       "id                    0\n",
       "dtype: int64"
      ]
     },
     "execution_count": 46,
     "metadata": {},
     "output_type": "execute_result"
    }
   ],
   "source": [
    "final_df.isnull().sum().sort_values(ascending=False)"
   ]
  },
  {
   "cell_type": "code",
   "execution_count": 47,
   "metadata": {},
   "outputs": [
    {
     "data": {
      "text/plain": [
       "(3006, 19)"
      ]
     },
     "execution_count": 47,
     "metadata": {},
     "output_type": "execute_result"
    }
   ],
   "source": [
    "final_df.shape"
   ]
  },
  {
   "cell_type": "code",
   "execution_count": 48,
   "metadata": {},
   "outputs": [
    {
     "data": {
      "text/plain": [
       "Index(['id', 'release_date', 'movie', 'production_budget', 'domestic_gross',\n",
       "       'worldwide_gross', 'profit', 'release_year', 'foreign_gross',\n",
       "       'movie_norm', 'movie_id', 'primary_title', 'original_title',\n",
       "       'start_year', 'runtime_minutes', 'genres', 'primary_title_norm',\n",
       "       'averagerating', 'numvotes'],\n",
       "      dtype='object')"
      ]
     },
     "execution_count": 48,
     "metadata": {},
     "output_type": "execute_result"
    }
   ],
   "source": [
    "final_df.columns"
   ]
  },
  {
   "cell_type": "code",
   "execution_count": 49,
   "metadata": {},
   "outputs": [
    {
     "name": "stdout",
     "output_type": "stream",
     "text": [
      "<class 'pandas.core.frame.DataFrame'>\n",
      "Int64Index: 3006 entries, 0 to 3005\n",
      "Data columns (total 19 columns):\n",
      " #   Column              Non-Null Count  Dtype         \n",
      "---  ------              --------------  -----         \n",
      " 0   id                  3006 non-null   int64         \n",
      " 1   release_date        3006 non-null   datetime64[ns]\n",
      " 2   movie               3006 non-null   object        \n",
      " 3   production_budget   3006 non-null   float64       \n",
      " 4   domestic_gross      3006 non-null   float64       \n",
      " 5   worldwide_gross     3006 non-null   float64       \n",
      " 6   profit              3006 non-null   float64       \n",
      " 7   release_year        3006 non-null   int64         \n",
      " 8   foreign_gross       3006 non-null   float64       \n",
      " 9   movie_norm          3006 non-null   object        \n",
      " 10  movie_id            3006 non-null   object        \n",
      " 11  primary_title       3006 non-null   object        \n",
      " 12  original_title      3006 non-null   object        \n",
      " 13  start_year          3006 non-null   int64         \n",
      " 14  runtime_minutes     3006 non-null   float64       \n",
      " 15  genres              3006 non-null   object        \n",
      " 16  primary_title_norm  3006 non-null   object        \n",
      " 17  averagerating       3006 non-null   float64       \n",
      " 18  numvotes            3006 non-null   int64         \n",
      "dtypes: datetime64[ns](1), float64(7), int64(4), object(7)\n",
      "memory usage: 469.7+ KB\n"
     ]
    }
   ],
   "source": [
    "final_df.info()"
   ]
  },
  {
   "cell_type": "markdown",
   "metadata": {},
   "source": [
    "The final merging process consolidated critical data from multiple sources into a single, unified dataset. We first normalized movie titles to address inconsistencies in formatting across datasets. Then, we performed an inner join between the financial dataset from The Numbers (df2) and the IMDB movie metadata (df3), using normalized movie titles as the linking key. This initial merge yielded 4,002 films with matching title and year information.\n",
    "\n",
    "Next, we merged this intermediate dataset with IMDB user ratings (df4) using the unique movie_id. This step further filtered the dataset to 3,006 films that had both financial and audience rating data available. The resulting dataset ensures a high level of consistency and completeness across key variables such as production budgets, worldwide grosses, genres, runtimes, and audience evaluations.\n",
    "\n",
    "By prioritizing data integrity through inner joins and careful normalization, we now have a robust and reliable foundation of 3,006 films suitable for in-depth exploratory analysis and predictive modeling."
   ]
  },
  {
   "cell_type": "markdown",
   "metadata": {},
   "source": [
    "## **2.5 columns to drop**"
   ]
  },
  {
   "cell_type": "code",
   "execution_count": 50,
   "metadata": {},
   "outputs": [],
   "source": [
    "columns_to_drop = [\n",
    "    'primary_title',         \n",
    "    'original_title',\n",
    "    'primary_title_norm',        \n",
    "    'start_year',           \n",
    "    'movie_norm',            \n",
    "]\n",
    "final_df = final_df.drop(columns=columns_to_drop)"
   ]
  },
  {
   "cell_type": "code",
   "execution_count": 51,
   "metadata": {},
   "outputs": [
    {
     "data": {
      "text/html": [
       "<div>\n",
       "<style scoped>\n",
       "    .dataframe tbody tr th:only-of-type {\n",
       "        vertical-align: middle;\n",
       "    }\n",
       "\n",
       "    .dataframe tbody tr th {\n",
       "        vertical-align: top;\n",
       "    }\n",
       "\n",
       "    .dataframe thead th {\n",
       "        text-align: right;\n",
       "    }\n",
       "</style>\n",
       "<table border=\"1\" class=\"dataframe\">\n",
       "  <thead>\n",
       "    <tr style=\"text-align: right;\">\n",
       "      <th></th>\n",
       "      <th>id</th>\n",
       "      <th>release_date</th>\n",
       "      <th>movie</th>\n",
       "      <th>production_budget</th>\n",
       "      <th>domestic_gross</th>\n",
       "      <th>worldwide_gross</th>\n",
       "      <th>profit</th>\n",
       "      <th>release_year</th>\n",
       "      <th>foreign_gross</th>\n",
       "      <th>movie_id</th>\n",
       "      <th>runtime_minutes</th>\n",
       "      <th>genres</th>\n",
       "      <th>averagerating</th>\n",
       "      <th>numvotes</th>\n",
       "    </tr>\n",
       "  </thead>\n",
       "  <tbody>\n",
       "    <tr>\n",
       "      <th>0</th>\n",
       "      <td>1</td>\n",
       "      <td>2009-12-18</td>\n",
       "      <td>Avatar</td>\n",
       "      <td>425000000.0</td>\n",
       "      <td>760507625.0</td>\n",
       "      <td>2.776345e+09</td>\n",
       "      <td>2.351345e+09</td>\n",
       "      <td>2009</td>\n",
       "      <td>2.015838e+09</td>\n",
       "      <td>tt1775309</td>\n",
       "      <td>93.0</td>\n",
       "      <td>Horror</td>\n",
       "      <td>6.1</td>\n",
       "      <td>43</td>\n",
       "    </tr>\n",
       "    <tr>\n",
       "      <th>1</th>\n",
       "      <td>2</td>\n",
       "      <td>2011-05-20</td>\n",
       "      <td>Pirates of the Caribbean: On Stranger Tides</td>\n",
       "      <td>410600000.0</td>\n",
       "      <td>241063875.0</td>\n",
       "      <td>1.045664e+09</td>\n",
       "      <td>6.350639e+08</td>\n",
       "      <td>2011</td>\n",
       "      <td>8.046000e+08</td>\n",
       "      <td>tt1298650</td>\n",
       "      <td>136.0</td>\n",
       "      <td>Action,Adventure,Fantasy</td>\n",
       "      <td>6.6</td>\n",
       "      <td>447624</td>\n",
       "    </tr>\n",
       "    <tr>\n",
       "      <th>2</th>\n",
       "      <td>3</td>\n",
       "      <td>2019-06-07</td>\n",
       "      <td>Dark Phoenix</td>\n",
       "      <td>350000000.0</td>\n",
       "      <td>42762350.0</td>\n",
       "      <td>1.497624e+08</td>\n",
       "      <td>-2.002376e+08</td>\n",
       "      <td>2019</td>\n",
       "      <td>1.070000e+08</td>\n",
       "      <td>tt6565702</td>\n",
       "      <td>113.0</td>\n",
       "      <td>Action,Adventure,Sci-Fi</td>\n",
       "      <td>6.0</td>\n",
       "      <td>24451</td>\n",
       "    </tr>\n",
       "    <tr>\n",
       "      <th>3</th>\n",
       "      <td>4</td>\n",
       "      <td>2015-05-01</td>\n",
       "      <td>Avengers: Age of Ultron</td>\n",
       "      <td>330600000.0</td>\n",
       "      <td>459005868.0</td>\n",
       "      <td>1.403014e+09</td>\n",
       "      <td>1.072414e+09</td>\n",
       "      <td>2015</td>\n",
       "      <td>9.440081e+08</td>\n",
       "      <td>tt2395427</td>\n",
       "      <td>141.0</td>\n",
       "      <td>Action,Adventure,Sci-Fi</td>\n",
       "      <td>7.3</td>\n",
       "      <td>665594</td>\n",
       "    </tr>\n",
       "    <tr>\n",
       "      <th>4</th>\n",
       "      <td>7</td>\n",
       "      <td>2018-04-27</td>\n",
       "      <td>Avengers: Infinity War</td>\n",
       "      <td>300000000.0</td>\n",
       "      <td>678815482.0</td>\n",
       "      <td>2.048134e+09</td>\n",
       "      <td>1.748134e+09</td>\n",
       "      <td>2018</td>\n",
       "      <td>1.369319e+09</td>\n",
       "      <td>tt4154756</td>\n",
       "      <td>149.0</td>\n",
       "      <td>Action,Adventure,Sci-Fi</td>\n",
       "      <td>8.5</td>\n",
       "      <td>670926</td>\n",
       "    </tr>\n",
       "  </tbody>\n",
       "</table>\n",
       "</div>"
      ],
      "text/plain": [
       "   id release_date                                        movie  \\\n",
       "0   1   2009-12-18                                       Avatar   \n",
       "1   2   2011-05-20  Pirates of the Caribbean: On Stranger Tides   \n",
       "2   3   2019-06-07                                 Dark Phoenix   \n",
       "3   4   2015-05-01                      Avengers: Age of Ultron   \n",
       "4   7   2018-04-27                       Avengers: Infinity War   \n",
       "\n",
       "   production_budget  domestic_gross  worldwide_gross        profit  \\\n",
       "0        425000000.0     760507625.0     2.776345e+09  2.351345e+09   \n",
       "1        410600000.0     241063875.0     1.045664e+09  6.350639e+08   \n",
       "2        350000000.0      42762350.0     1.497624e+08 -2.002376e+08   \n",
       "3        330600000.0     459005868.0     1.403014e+09  1.072414e+09   \n",
       "4        300000000.0     678815482.0     2.048134e+09  1.748134e+09   \n",
       "\n",
       "   release_year  foreign_gross   movie_id  runtime_minutes  \\\n",
       "0          2009   2.015838e+09  tt1775309             93.0   \n",
       "1          2011   8.046000e+08  tt1298650            136.0   \n",
       "2          2019   1.070000e+08  tt6565702            113.0   \n",
       "3          2015   9.440081e+08  tt2395427            141.0   \n",
       "4          2018   1.369319e+09  tt4154756            149.0   \n",
       "\n",
       "                     genres  averagerating  numvotes  \n",
       "0                    Horror            6.1        43  \n",
       "1  Action,Adventure,Fantasy            6.6    447624  \n",
       "2   Action,Adventure,Sci-Fi            6.0     24451  \n",
       "3   Action,Adventure,Sci-Fi            7.3    665594  \n",
       "4   Action,Adventure,Sci-Fi            8.5    670926  "
      ]
     },
     "execution_count": 51,
     "metadata": {},
     "output_type": "execute_result"
    }
   ],
   "source": [
    "final_df.head(5)"
   ]
  },
  {
   "cell_type": "code",
   "execution_count": 52,
   "metadata": {},
   "outputs": [
    {
     "data": {
      "text/plain": [
       "(3006, 14)"
      ]
     },
     "execution_count": 52,
     "metadata": {},
     "output_type": "execute_result"
    }
   ],
   "source": [
    "final_df.shape"
   ]
  },
  {
   "cell_type": "markdown",
   "metadata": {},
   "source": [
    "## *2.6 Exporting the dataset*"
   ]
  },
  {
   "cell_type": "code",
   "execution_count": 53,
   "metadata": {},
   "outputs": [],
   "source": [
    "final_df.to_csv('data_cleaned.csv', index=False)"
   ]
  },
  {
   "cell_type": "markdown",
   "metadata": {},
   "source": [
    "Once all the data cleaning, transformation, and merging steps were completed for the combined movie dataset, we exported the final clean dataset to a new file named data_cleaned.csv. This export ensures that a consistent, comprehensive, and analysis-ready version of the data is saved for future use. It facilitates efficient exploratory analysis, modeling, and reporting, while eliminating the need to redo the extensive preprocessing work previously performed."
   ]
  },
  {
   "cell_type": "markdown",
   "metadata": {},
   "source": [
    "# *3-Analysis and Results*"
   ]
  },
  {
   "cell_type": "markdown",
   "metadata": {},
   "source": [
    "## **3.1 Introduction to the Analytical Approach**"
   ]
  },
  {
   "cell_type": "markdown",
   "metadata": {},
   "source": [
    "Exploratory Data Analysis (EDA) is a crucial step in understanding the trends, relationships, and anomalies present in the data. This phase not only helps to formulate hypotheses but also to identify key factors that may influence a film’s commercial performance.\n",
    "\n",
    "In this section, we perform:\n",
    "\n",
    "- Univariate analysis to explore individual variables (e.g., budgets, revenues, runtime, average rating, genre, etc.),\n",
    "\n",
    "- Bivariate analysis to study relationships between variables (e.g., budget vs. revenue, average rating vs. revenue, etc.),\n",
    "\n",
    "- And statistical tests to validate certain hypotheses."
   ]
  },
  {
   "cell_type": "markdown",
   "metadata": {},
   "source": [
    "## **3.2 Univariate Analysis**"
   ]
  },
  {
   "cell_type": "markdown",
   "metadata": {},
   "source": [
    "## **3.2.1 General Descriptive Analysis**"
   ]
  },
  {
   "cell_type": "markdown",
   "metadata": {},
   "source": [
    "We begin with a statistical summary of quantitative variables such as production budget, domestic and worldwide revenues, profits, film runtimes, average ratings, and more. This analysis provides an overall view of the distribution of key variables."
   ]
  },
  {
   "cell_type": "code",
   "execution_count": 54,
   "metadata": {},
   "outputs": [
    {
     "data": {
      "text/html": [
       "<div>\n",
       "<style scoped>\n",
       "    .dataframe tbody tr th:only-of-type {\n",
       "        vertical-align: middle;\n",
       "    }\n",
       "\n",
       "    .dataframe tbody tr th {\n",
       "        vertical-align: top;\n",
       "    }\n",
       "\n",
       "    .dataframe thead th {\n",
       "        text-align: right;\n",
       "    }\n",
       "</style>\n",
       "<table border=\"1\" class=\"dataframe\">\n",
       "  <thead>\n",
       "    <tr style=\"text-align: right;\">\n",
       "      <th></th>\n",
       "      <th>id</th>\n",
       "      <th>production_budget</th>\n",
       "      <th>domestic_gross</th>\n",
       "      <th>worldwide_gross</th>\n",
       "      <th>profit</th>\n",
       "      <th>release_year</th>\n",
       "      <th>foreign_gross</th>\n",
       "      <th>runtime_minutes</th>\n",
       "      <th>averagerating</th>\n",
       "      <th>numvotes</th>\n",
       "    </tr>\n",
       "  </thead>\n",
       "  <tbody>\n",
       "    <tr>\n",
       "      <th>count</th>\n",
       "      <td>3006.000000</td>\n",
       "      <td>3.006000e+03</td>\n",
       "      <td>3.006000e+03</td>\n",
       "      <td>3.006000e+03</td>\n",
       "      <td>3.006000e+03</td>\n",
       "      <td>3006.000000</td>\n",
       "      <td>3.006000e+03</td>\n",
       "      <td>3006.000000</td>\n",
       "      <td>3006.000000</td>\n",
       "      <td>3.006000e+03</td>\n",
       "    </tr>\n",
       "    <tr>\n",
       "      <th>mean</th>\n",
       "      <td>50.985695</td>\n",
       "      <td>3.415028e+07</td>\n",
       "      <td>4.304762e+07</td>\n",
       "      <td>1.024793e+08</td>\n",
       "      <td>6.832905e+07</td>\n",
       "      <td>2010.320027</td>\n",
       "      <td>5.943170e+07</td>\n",
       "      <td>102.353792</td>\n",
       "      <td>6.249900</td>\n",
       "      <td>6.551423e+04</td>\n",
       "    </tr>\n",
       "    <tr>\n",
       "      <th>std</th>\n",
       "      <td>28.652734</td>\n",
       "      <td>4.741874e+07</td>\n",
       "      <td>7.426241e+07</td>\n",
       "      <td>2.020387e+08</td>\n",
       "      <td>1.678678e+08</td>\n",
       "      <td>9.221442</td>\n",
       "      <td>1.338539e+08</td>\n",
       "      <td>20.543448</td>\n",
       "      <td>1.187665</td>\n",
       "      <td>1.328346e+05</td>\n",
       "    </tr>\n",
       "    <tr>\n",
       "      <th>min</th>\n",
       "      <td>1.000000</td>\n",
       "      <td>1.400000e+03</td>\n",
       "      <td>0.000000e+00</td>\n",
       "      <td>0.000000e+00</td>\n",
       "      <td>-2.002376e+08</td>\n",
       "      <td>1915.000000</td>\n",
       "      <td>0.000000e+00</td>\n",
       "      <td>3.000000</td>\n",
       "      <td>1.600000</td>\n",
       "      <td>5.000000e+00</td>\n",
       "    </tr>\n",
       "    <tr>\n",
       "      <th>25%</th>\n",
       "      <td>27.000000</td>\n",
       "      <td>5.000000e+06</td>\n",
       "      <td>5.017520e+05</td>\n",
       "      <td>2.351108e+06</td>\n",
       "      <td>-2.302890e+06</td>\n",
       "      <td>2010.000000</td>\n",
       "      <td>9.111600e+04</td>\n",
       "      <td>90.000000</td>\n",
       "      <td>5.600000</td>\n",
       "      <td>1.352500e+02</td>\n",
       "    </tr>\n",
       "    <tr>\n",
       "      <th>50%</th>\n",
       "      <td>51.000000</td>\n",
       "      <td>1.700000e+07</td>\n",
       "      <td>1.679261e+07</td>\n",
       "      <td>3.037390e+07</td>\n",
       "      <td>1.005956e+07</td>\n",
       "      <td>2013.000000</td>\n",
       "      <td>9.741772e+06</td>\n",
       "      <td>100.000000</td>\n",
       "      <td>6.400000</td>\n",
       "      <td>7.640000e+03</td>\n",
       "    </tr>\n",
       "    <tr>\n",
       "      <th>75%</th>\n",
       "      <td>76.000000</td>\n",
       "      <td>4.000000e+07</td>\n",
       "      <td>5.186765e+07</td>\n",
       "      <td>1.011621e+08</td>\n",
       "      <td>6.271639e+07</td>\n",
       "      <td>2015.000000</td>\n",
       "      <td>5.293466e+07</td>\n",
       "      <td>113.000000</td>\n",
       "      <td>7.100000</td>\n",
       "      <td>7.477100e+04</td>\n",
       "    </tr>\n",
       "    <tr>\n",
       "      <th>max</th>\n",
       "      <td>100.000000</td>\n",
       "      <td>4.250000e+08</td>\n",
       "      <td>7.605076e+08</td>\n",
       "      <td>2.776345e+09</td>\n",
       "      <td>2.351345e+09</td>\n",
       "      <td>2019.000000</td>\n",
       "      <td>2.015838e+09</td>\n",
       "      <td>280.000000</td>\n",
       "      <td>9.400000</td>\n",
       "      <td>1.841066e+06</td>\n",
       "    </tr>\n",
       "  </tbody>\n",
       "</table>\n",
       "</div>"
      ],
      "text/plain": [
       "                id  production_budget  domestic_gross  worldwide_gross  \\\n",
       "count  3006.000000       3.006000e+03    3.006000e+03     3.006000e+03   \n",
       "mean     50.985695       3.415028e+07    4.304762e+07     1.024793e+08   \n",
       "std      28.652734       4.741874e+07    7.426241e+07     2.020387e+08   \n",
       "min       1.000000       1.400000e+03    0.000000e+00     0.000000e+00   \n",
       "25%      27.000000       5.000000e+06    5.017520e+05     2.351108e+06   \n",
       "50%      51.000000       1.700000e+07    1.679261e+07     3.037390e+07   \n",
       "75%      76.000000       4.000000e+07    5.186765e+07     1.011621e+08   \n",
       "max     100.000000       4.250000e+08    7.605076e+08     2.776345e+09   \n",
       "\n",
       "             profit  release_year  foreign_gross  runtime_minutes  \\\n",
       "count  3.006000e+03   3006.000000   3.006000e+03      3006.000000   \n",
       "mean   6.832905e+07   2010.320027   5.943170e+07       102.353792   \n",
       "std    1.678678e+08      9.221442   1.338539e+08        20.543448   \n",
       "min   -2.002376e+08   1915.000000   0.000000e+00         3.000000   \n",
       "25%   -2.302890e+06   2010.000000   9.111600e+04        90.000000   \n",
       "50%    1.005956e+07   2013.000000   9.741772e+06       100.000000   \n",
       "75%    6.271639e+07   2015.000000   5.293466e+07       113.000000   \n",
       "max    2.351345e+09   2019.000000   2.015838e+09       280.000000   \n",
       "\n",
       "       averagerating      numvotes  \n",
       "count    3006.000000  3.006000e+03  \n",
       "mean        6.249900  6.551423e+04  \n",
       "std         1.187665  1.328346e+05  \n",
       "min         1.600000  5.000000e+00  \n",
       "25%         5.600000  1.352500e+02  \n",
       "50%         6.400000  7.640000e+03  \n",
       "75%         7.100000  7.477100e+04  \n",
       "max         9.400000  1.841066e+06  "
      ]
     },
     "execution_count": 54,
     "metadata": {},
     "output_type": "execute_result"
    }
   ],
   "source": [
    "final_df.describe()"
   ]
  },
  {
   "cell_type": "markdown",
   "metadata": {},
   "source": [
    "The average production budget of a film is approximately 34.15 million USD, with a high dispersion (standard deviation ≈ 47.42 million USD), reflecting a wide range of investment levels. The average profit is positive (around 68.33 million USD), but the median, much lower (≈ 10.06 million USD), reveals a skewed distribution: some films achieve enormous profits while others incur heavy losses (down to -200 million USD). The maximum worldwide gross reaches 2.77 billion USD, illustrating the significant impact of blockbuster productions. Finally, the median release year is 2013, indicating that the data covers a broad historical period from 1915 to 2019."
   ]
  },
  {
   "cell_type": "markdown",
   "metadata": {},
   "source": [
    "## **3.2.2 Analysis of Quantitative Variables**"
   ]
  },
  {
   "cell_type": "markdown",
   "metadata": {},
   "source": [
    "\n",
    "A-Variable: production_budget\n",
    "- objective: Identify high-budget/low-budget films."
   ]
  },
  {
   "cell_type": "code",
   "execution_count": 55,
   "metadata": {},
   "outputs": [
    {
     "data": {
      "image/png": "[encoded data removed]",
      "text/plain": [
       "<Figure size 1008x432 with 2 Axes>"
      ]
     },
     "metadata": {},
     "output_type": "display_data"
    }
   ],
   "source": [
    "plt.figure(figsize=(14,6))\n",
    "\n",
    "plt.subplot(1,2,1)\n",
    "sns.histplot(final_df['production_budget'].dropna(), bins=50, kde=True)\n",
    "plt.title(\"Distribution of Production Budget\")\n",
    "plt.xlabel(\"Production Budget (USD)\")\n",
    "\n",
    "plt.subplot(1,2,2)\n",
    "sns.boxplot(x=final_df['production_budget'].dropna())\n",
    "plt.title(\"Boxplot of Production Budget\")\n",
    "plt.xlabel(\"Production Budget (USD)\")\n",
    "\n",
    "plt.savefig('production_budget.png', dpi=300, bbox_inches='tight')\n",
    "\n",
    "plt.show()"
   ]
  },
  {
   "cell_type": "markdown",
   "metadata": {},
   "source": [
    "The distribution of production budgets is highly right-skewed, with most films produced on a small or moderate budget and a few blockbusters with extremely high budgets.\n",
    "The boxplot confirms the presence of extreme outliers, indicating a wide investment range."
   ]
  },
  {
   "cell_type": "markdown",
   "metadata": {},
   "source": [
    "\n",
    "B-Variable: worldwide_gross\n",
    "- objective: Analyze the revenue distribution"
   ]
  },
  {
   "cell_type": "code",
   "execution_count": 56,
   "metadata": {},
   "outputs": [
    {
     "data": {
      "image/png": "[encoded data removed]",
      "text/plain": [
       "<Figure size 1008x432 with 2 Axes>"
      ]
     },
     "metadata": {},
     "output_type": "display_data"
    }
   ],
   "source": [
    "plt.figure(figsize=(14,6))\n",
    "\n",
    "plt.subplot(1,2,1)\n",
    "sns.histplot(final_df['worldwide_gross'].dropna(), bins=50, kde=True)\n",
    "plt.title(\"Distribution of Worldwide Gross\")\n",
    "plt.xlabel(\"Worldwide Gross (USD)\")\n",
    "\n",
    "plt.subplot(1,2,2)\n",
    "sns.boxplot(x=final_df['worldwide_gross'].dropna())\n",
    "plt.title(\"Boxplot of Worldwide Gross\")\n",
    "plt.xlabel(\"Worldwide Gross (USD)\")\n",
    "\n",
    "plt.savefig('worldwide_gross.png', dpi=300, bbox_inches='tight')\n",
    "\n",
    "\n",
    "plt.show()"
   ]
  },
  {
   "cell_type": "markdown",
   "metadata": {},
   "source": [
    "The distribution is right-skewed, with a small group of movies earning massive global revenues.\n",
    "Most films earn modest amounts or underperform in international markets."
   ]
  },
  {
   "cell_type": "markdown",
   "metadata": {},
   "source": [
    "\n",
    "C-Variable: profit\n",
    "- objective: Understand profitability"
   ]
  },
  {
   "cell_type": "code",
   "execution_count": 57,
   "metadata": {},
   "outputs": [
    {
     "data": {
      "image/png": "[encoded data removed]",
      "text/plain": [
       "<Figure size 1008x432 with 2 Axes>"
      ]
     },
     "metadata": {},
     "output_type": "display_data"
    }
   ],
   "source": [
    "plt.figure(figsize=(14,6))\n",
    "\n",
    "plt.subplot(1,2,1)\n",
    "sns.histplot(final_df['profit'].dropna(), bins=50, kde=True)\n",
    "plt.title(\"Distribution of Profit\")\n",
    "plt.xlabel(\"Profit (USD)\")\n",
    "\n",
    "plt.subplot(1,2,2)\n",
    "sns.boxplot(x=final_df['profit'].dropna())\n",
    "plt.title(\"Boxplot of Profit\")\n",
    "plt.xlabel(\"Profit (USD)\")\n",
    "\n",
    "plt.savefig('profit.png', dpi=300, bbox_inches='tight')\n",
    "\n",
    "plt.show()"
   ]
  },
  {
   "cell_type": "markdown",
   "metadata": {},
   "source": [
    "The profit distribution shows a high variance. Many films incur large losses, while others generate exceptionally high profits.\n",
    "The distribution is asymmetric, indicating that outliers strongly impact the average."
   ]
  },
  {
   "cell_type": "markdown",
   "metadata": {},
   "source": [
    "\n",
    "D-Variable: runtime_minutes\n",
    "- objective: Study typical durations"
   ]
  },
  {
   "cell_type": "code",
   "execution_count": 58,
   "metadata": {},
   "outputs": [
    {
     "data": {
      "image/png": "[encoded data removed]",
      "text/plain": [
       "<Figure size 576x360 with 1 Axes>"
      ]
     },
     "metadata": {},
     "output_type": "display_data"
    }
   ],
   "source": [
    "plt.figure(figsize=(8,5))\n",
    "sns.histplot(final_df['runtime_minutes'].dropna(), bins=40, kde=True)\n",
    "plt.title(\"Distribution of Movie Runtimes\")\n",
    "plt.xlabel(\"Runtime (minutes)\")\n",
    "\n",
    "plt.savefig('runtime_minutes.png', dpi=300, bbox_inches='tight')\n",
    "plt.show()"
   ]
  },
  {
   "cell_type": "markdown",
   "metadata": {},
   "source": [
    "Most movies fall within the 90–120 minute range, aligning with standard cinematic formats.\n",
    "The distribution is moderately symmetric with some long-duration films as outliers."
   ]
  },
  {
   "cell_type": "markdown",
   "metadata": {},
   "source": [
    "\n",
    "E-Variable: averagerating\n",
    "- objective: Distribution of user ratings"
   ]
  },
  {
   "cell_type": "code",
   "execution_count": 59,
   "metadata": {},
   "outputs": [
    {
     "data": {
      "image/png": "[encoded data removed]",
      "text/plain": [
       "<Figure size 576x360 with 1 Axes>"
      ]
     },
     "metadata": {},
     "output_type": "display_data"
    }
   ],
   "source": [
    "plt.figure(figsize=(8,5))\n",
    "sns.histplot(final_df['averagerating'].dropna(), bins=30, kde=True)\n",
    "plt.title(\"Distribution of Average Ratings\")\n",
    "plt.xlabel(\"Average Rating\")\n",
    "\n",
    "plt.savefig('averagerating.png', dpi=300, bbox_inches='tight')\n",
    "plt.show()"
   ]
  },
  {
   "cell_type": "markdown",
   "metadata": {},
   "source": [
    "The average IMDb rating centers around 6.5, which is typical for most films.\n",
    "Very few movies score below 4 or above 8.5, suggesting a tendency toward average perceptions."
   ]
  },
  {
   "cell_type": "markdown",
   "metadata": {},
   "source": [
    "\n",
    "F-Variable: numvotes\n",
    "- objective: Measure popularity"
   ]
  },
  {
   "cell_type": "code",
   "execution_count": 60,
   "metadata": {},
   "outputs": [
    {
     "data": {
      "image/png": "[encoded data removed]",
      "text/plain": [
       "<Figure size 576x360 with 1 Axes>"
      ]
     },
     "metadata": {},
     "output_type": "display_data"
    }
   ],
   "source": [
    "plt.figure(figsize=(8,5))\n",
    "sns.histplot(final_df['numvotes'].dropna(), bins=50, kde=False)\n",
    "plt.xscale('log')\n",
    "plt.title(\"Distribution of Number of Votes (Log Scale)\")\n",
    "plt.xlabel(\"Number of Votes (log scale)\")\n",
    "\n",
    "plt.savefig('numvotes.png', dpi=300, bbox_inches='tight')\n",
    "plt.show()"
   ]
  },
  {
   "cell_type": "markdown",
   "metadata": {},
   "source": [
    "On a logarithmic scale, we see that most movies receive very few votes, while a handful attract tens or hundreds of thousands.\n",
    "This reflects vast differences in public visibility or popularity."
   ]
  },
  {
   "cell_type": "markdown",
   "metadata": {},
   "source": [
    "## **3.2.3 Analysis of Categorical Variables**"
   ]
  },
  {
   "cell_type": "markdown",
   "metadata": {},
   "source": [
    "G-Variable: genres\n",
    "- objective: See which genres dominate"
   ]
  },
  {
   "cell_type": "code",
   "execution_count": 61,
   "metadata": {},
   "outputs": [
    {
     "data": {
      "image/png": "[encoded data removed]",
      "text/plain": [
       "<Figure size 720x432 with 1 Axes>"
      ]
     },
     "metadata": {},
     "output_type": "display_data"
    }
   ],
   "source": [
    "genres_exploded = final_df['genres'].dropna().str.split(',').explode()\n",
    "\n",
    "top_genres = genres_exploded.value_counts().nlargest(10)\n",
    "\n",
    "plt.figure(figsize=(10,6))\n",
    "sns.barplot(x=top_genres.values, y=top_genres.index, palette='viridis')\n",
    "plt.title(\"Top 10 Movie Genres\")\n",
    "plt.xlabel(\"Number of Movies\")\n",
    "plt.ylabel(\"Genre\")\n",
    "\n",
    "plt.savefig('genres.png', dpi=300, bbox_inches='tight')\n",
    "plt.show()"
   ]
  },
  {
   "cell_type": "markdown",
   "metadata": {},
   "source": [
    "The most dominant genres are Drama, Comedy, Action, Thriller, and Adventure.\n",
    "These genres are consistently produced and reflect broader audience demand."
   ]
  },
  {
   "cell_type": "markdown",
   "metadata": {},
   "source": [
    "H-Variable: release_year\n",
    "- objective: Study the temporal distribution"
   ]
  },
  {
   "cell_type": "code",
   "execution_count": 62,
   "metadata": {},
   "outputs": [
    {
     "data": {
      "image/png": "[encoded data removed]",
      "text/plain": [
       "<Figure size 864x432 with 1 Axes>"
      ]
     },
     "metadata": {},
     "output_type": "display_data"
    }
   ],
   "source": [
    "plt.figure(figsize=(12,6))\n",
    "sns.countplot(x='release_year', data=final_df, palette='coolwarm', order=final_df['release_year'].value_counts().index.sort_values())\n",
    "plt.title(\"Number of Movies Released per Year\")\n",
    "plt.xlabel(\"Release Year\")\n",
    "plt.ylabel(\"Count\")\n",
    "plt.xticks(rotation=45)\n",
    "\n",
    "plt.savefig('release_year.png', dpi=300, bbox_inches='tight')\n",
    "plt.show()"
   ]
  },
  {
   "cell_type": "markdown",
   "metadata": {},
   "source": [
    "The data shows a concentration of films post-2000, especially between 2010 and 2019.\n",
    "This may reflect improved data availability and increased film production in recent years."
   ]
  },
  {
   "cell_type": "markdown",
   "metadata": {},
   "source": [
    "## **3.2 bivariate Analysis**"
   ]
  },
  {
   "cell_type": "markdown",
   "metadata": {},
   "source": [
    "Objectives:\n",
    "Study the relationships between numerical and categorical variables to identify success factors."
   ]
  },
  {
   "cell_type": "markdown",
   "metadata": {},
   "source": [
    "## **3.2.1 Analysis of Numerical Variables**"
   ]
  },
  {
   "cell_type": "markdown",
   "metadata": {},
   "source": [
    "**A-budget vs profit**"
   ]
  },
  {
   "cell_type": "code",
   "execution_count": 63,
   "metadata": {},
   "outputs": [
    {
     "data": {
      "image/png": "[encoded data removed]",
      "text/plain": [
       "<Figure size 576x360 with 1 Axes>"
      ]
     },
     "metadata": {},
     "output_type": "display_data"
    }
   ],
   "source": [
    "plt.figure(figsize=(8,5))\n",
    "sns.scatterplot(data=final_df, x='production_budget', y='profit')\n",
    "plt.title('Production Budget vs Profit')\n",
    "\n",
    "plt.savefig('budget vs profit.png', dpi=300, bbox_inches='tight')\n",
    "plt.show()"
   ]
  },
  {
   "cell_type": "markdown",
   "metadata": {},
   "source": [
    "The scatter plot reveals a clear positive linear relationship between production budget and profit.\n",
    "Films with higher budgets tend to earn higher profits, although the relationship is not perfect there are exceptions where big-budget films perform poorly, and low-budget films achieve remarkable returns.\n",
    "However, the upward trend is strong and suggests that budget is a key driver of profitability, especially for blockbusters."
   ]
  },
  {
   "cell_type": "markdown",
   "metadata": {},
   "source": [
    "**B-rating vs profit**"
   ]
  },
  {
   "cell_type": "code",
   "execution_count": 64,
   "metadata": {},
   "outputs": [
    {
     "data": {
      "image/png": "[encoded data removed]",
      "text/plain": [
       "<Figure size 432x288 with 1 Axes>"
      ]
     },
     "metadata": {},
     "output_type": "display_data"
    }
   ],
   "source": [
    "sns.regplot(data=final_df, x='averagerating', y='profit', scatter_kws={'alpha':0.4})\n",
    "plt.title(\"Average Rating vs Profit\")\n",
    "\n",
    "plt.savefig('rating vs profit.png', dpi=300, bbox_inches='tight')\n",
    "plt.show()"
   ]
  },
  {
   "cell_type": "markdown",
   "metadata": {},
   "source": [
    "The scatter plot and regression line show a weak positive relationship between average IMDb rating and profit.\n",
    "Highly-rated films tend to perform slightly better in terms of profit, but the trend is not very strong.\n",
    "This suggests that audience satisfaction (ratings) contributes to profitability, but is not the primary factor likely because distribution, marketing, and genre also play significant roles."
   ]
  },
  {
   "cell_type": "markdown",
   "metadata": {},
   "source": [
    "**C-duration vs profit**"
   ]
  },
  {
   "cell_type": "code",
   "execution_count": 65,
   "metadata": {},
   "outputs": [
    {
     "data": {
      "image/png": "[encoded data removed]",
      "text/plain": [
       "<Figure size 540x360 with 1 Axes>"
      ]
     },
     "metadata": {},
     "output_type": "display_data"
    }
   ],
   "source": [
    "sns.lmplot(data=final_df, x='runtime_minutes', y='profit', aspect=1.5, scatter_kws={'alpha':0.3})\n",
    "plt.title('Duration vs Profit')\n",
    "\n",
    "plt.savefig('duration vs profit.png', dpi=300, bbox_inches='tight')\n",
    "plt.show()"
   ]
  },
  {
   "cell_type": "markdown",
   "metadata": {},
   "source": [
    "The plot shows a very weak positive trend: longer films tend to have slightly higher profits.\n",
    "While most highly profitable films fall between 90 and 150 minutes, there is no strong pattern indicating that runtime alone determines success.\n",
    "However, a well-paced film within this range seems optimal, and extremely short or overly long films may underperform."
   ]
  },
  {
   "cell_type": "markdown",
   "metadata": {},
   "source": [
    "## **3.2.2 Analysis by Genre**"
   ]
  },
  {
   "cell_type": "markdown",
   "metadata": {},
   "source": [
    "**Explode genres to handle multiple genres per movie**"
   ]
  },
  {
   "cell_type": "code",
   "execution_count": 67,
   "metadata": {},
   "outputs": [],
   "source": [
    "genre_exploded_df = final_df.dropna(subset=['genres']).copy()\n",
    "genre_exploded_df['genres'] = genre_exploded_df['genres'].str.split(',')\n",
    "genre_exploded_df = genre_exploded_df.explode('genres')\n",
    "genre_exploded_df['genres'] = genre_exploded_df['genres'].str.strip()"
   ]
  },
  {
   "cell_type": "markdown",
   "metadata": {},
   "source": [
    "**A-Mean profit per genre**"
   ]
  },
  {
   "cell_type": "code",
   "execution_count": 68,
   "metadata": {},
   "outputs": [
    {
     "name": "stdout",
     "output_type": "stream",
     "text": [
      "genres\n",
      "Animation    2.233052e+08\n",
      "Adventure    2.083407e+08\n",
      "Sci-Fi       1.725803e+08\n",
      "Fantasy      1.468078e+08\n",
      "Action       1.249185e+08\n",
      "Musical      1.212799e+08\n",
      "Family       1.051317e+08\n",
      "Comedy       7.209629e+07\n",
      "Thriller     5.351922e+07\n",
      "Sport        5.304320e+07\n",
      "Name: profit, dtype: float64\n"
     ]
    },
    {
     "data": {
      "image/png": "[encoded data removed]",
      "text/plain": [
       "<Figure size 864x432 with 1 Axes>"
      ]
     },
     "metadata": {},
     "output_type": "display_data"
    }
   ],
   "source": [
    "mean_profit_by_genre = genre_exploded_df.groupby('genres')['profit'].mean().sort_values(ascending=False)\n",
    "print(mean_profit_by_genre.head(10))\n",
    "\n",
    "top10_genres = genre_exploded_df['genres'].value_counts().nlargest(10).index\n",
    "top10_df = genre_exploded_df[genre_exploded_df['genres'].isin(top10_genres)]\n",
    "\n",
    "plt.figure(figsize=(12,6))\n",
    "sns.boxplot(data=top10_df, x='genres', y='profit')\n",
    "plt.title(\"Profit by Genre (Top 10 Genres)\")\n",
    "plt.xticks(rotation=45)\n",
    "\n",
    "plt.savefig('Mean profit per genre.png', dpi=300, bbox_inches='tight')\n",
    "plt.show()"
   ]
  },
  {
   "cell_type": "markdown",
   "metadata": {},
   "source": [
    "The boxplot reveals clear differences in profitability across genres.\n",
    "Genres like Animation, Adventure, and Sci-Fi show the highest median and mean profits.\n",
    "On the other hand, genres such as Drama and Romance often show lower or even negative profits.\n",
    "This highlights that genre is a strategic factor targeting high-profit genres can significantly improve financial outcomes."
   ]
  },
  {
   "cell_type": "markdown",
   "metadata": {},
   "source": [
    "**B-Mean rating by genre**"
   ]
  },
  {
   "cell_type": "code",
   "execution_count": 69,
   "metadata": {},
   "outputs": [
    {
     "name": "stdout",
     "output_type": "stream",
     "text": [
      "genres\n",
      "Documentary    7.147111\n",
      "Biography      6.954950\n",
      "History        6.820548\n",
      "Sport          6.598413\n",
      "News           6.550000\n",
      "Animation      6.451825\n",
      "Music          6.448052\n",
      "Drama          6.434687\n",
      "Adventure      6.395896\n",
      "War            6.387500\n",
      "Name: averagerating, dtype: float64\n"
     ]
    },
    {
     "data": {
      "image/png": "[encoded data removed]",
      "text/plain": [
       "<Figure size 864x432 with 1 Axes>"
      ]
     },
     "metadata": {},
     "output_type": "display_data"
    }
   ],
   "source": [
    "mean_rating_by_genre = genre_exploded_df.groupby('genres')['averagerating'].mean().sort_values(ascending=False)\n",
    "print(mean_rating_by_genre.head(10))\n",
    "\n",
    "plt.figure(figsize=(12,6))\n",
    "sns.boxplot(data=top10_df, x='genres', y='averagerating')\n",
    "plt.title(\"Average Rating by Genre (Top 10 Genres)\")\n",
    "plt.xticks(rotation=45)\n",
    "\n",
    "plt.savefig('Mean rating by genre.png', dpi=300, bbox_inches='tight')\n",
    "plt.show()"
   ]
  },
  {
   "cell_type": "markdown",
   "metadata": {},
   "source": [
    "The boxplot shows that some genres consistently receive higher audience ratings, such as Documentary, Biography, History, and Animation.\n",
    "In contrast, Thriller, Action, and Horror tend to receive more mixed or lower ratings.\n",
    "This reflects audience expectations and content depth in each genre.\n",
    "While profitability is highest for genres like Sci-Fi and Adventure, genres with high ratings may offer long-term brand value or critical recognition."
   ]
  },
  {
   "cell_type": "markdown",
   "metadata": {},
   "source": [
    "## **3.2.3 Hypothesis Testing**"
   ]
  },
  {
   "cell_type": "markdown",
   "metadata": {},
   "source": [
    "**A-Hypothesis**: \n",
    "- H₀ (Null Hypothesis): There is no linear correlation between production budget and profit.\n",
    "\n",
    "- H₁ (Alternative Hypothesis): There is a positive linear correlation between production budget and profit.\n",
    "\n",
    "**Statistic**: Pearson correlation\n",
    "\n",
    "**Decision Rule**:\n",
    "- If the **p-value < 0.05**, we reject the null hypothesis H₀ and conclude that there is a significant linear relationship.\n",
    "- Otherwise, we fail to reject H₀."
   ]
  },
  {
   "cell_type": "code",
   "execution_count": 159,
   "metadata": {},
   "outputs": [
    {
     "name": "stdout",
     "output_type": "stream",
     "text": [
      "Pearson correlation (Budget vs Profit): 0.65\n"
     ]
    }
   ],
   "source": [
    "corr_budget_profit, _ = pearsonr(final_df['production_budget'], final_df['profit'])\n",
    "print(f\"Pearson correlation (Budget vs Profit): {corr_budget_profit:.2f}\")"
   ]
  },
  {
   "cell_type": "markdown",
   "metadata": {},
   "source": [
    "The Pearson correlation calculated between production budget and film profit is 0.65. This value indicates a moderate to strong positive linear relationship between the two variables.\n",
    "\n",
    "In other words, films with higher budgets tend to generate more profit. This can be explained by the fact that a larger budget often allows for:\n",
    "\n",
    "- more effective marketing campaigns,\n",
    "\n",
    "- higher-quality special effects,\n",
    "\n",
    "- more attractive casting,\n",
    "\n",
    "- and wider distribution.\n",
    "\n",
    "However, although the correlation is relatively high, it is not perfect. There are cases where a high-budget film may not be profitable, and conversely, a low-budget film may achieve excellent profits (a phenomenon sometimes observed in successful independent films).\n",
    "\n",
    "This analysis highlights budget as a potential success factor, while also emphasizing the importance of other explanatory variables such as genre, runtime, average rating, or popularity."
   ]
  },
  {
   "cell_type": "markdown",
   "metadata": {},
   "source": [
    "**B-Hypothesis**: \n",
    "- H₀: There is no linear correlation between average rating and worldwide gross.\n",
    "\n",
    "- H₁: There is a positive linear correlation between average rating and worldwide gross.\n",
    "\n",
    "\n",
    "**Test**: Pearson correlation\n",
    "\n",
    "**Decision Rule**:\n",
    "- If the **p-value < 0.05**, we reject H₀ and conclude that a statistically significant linear relationship exists.\n",
    "- If the **p-value ≥ 0.05**, we fail to reject H₀ and conclude that there is no significant linear relationship."
   ]
  },
  {
   "cell_type": "code",
   "execution_count": 160,
   "metadata": {},
   "outputs": [
    {
     "name": "stdout",
     "output_type": "stream",
     "text": [
      "Pearson correlation: 0.163, p-value: 0.0000\n"
     ]
    }
   ],
   "source": [
    "rating = final_df['averagerating']\n",
    "revenue = final_df['worldwide_gross']\n",
    "\n",
    "corr, p_value = pearsonr(rating, revenue)\n",
    "print(f\"Pearson correlation: {corr:.3f}, p-value: {p_value:.4f}\")"
   ]
  },
  {
   "cell_type": "markdown",
   "metadata": {},
   "source": [
    "The Pearson correlation between a film’s average rating and its number of votes is 0.163, with a p-value very close to 0. Although this relationship is weak, it is statistically significant.\n",
    "\n",
    "This means that higher-rated films tend to receive slightly more votes, but the association is not strong. It is likely that other factors such as popularity, budget, or genre have a much greater influence on the number of votes a film receives."
   ]
  },
  {
   "cell_type": "markdown",
   "metadata": {},
   "source": [
    "**C-Hypothesis**: \n",
    "- H₀: All genres have equal mean profit.\n",
    "\n",
    "- H₁: At least one genre has a different mean profit.\n",
    "\n",
    "\n",
    "**Test**: One-way ANOVA \n",
    "\n",
    "**Decision Rule**:\n",
    "- If the **p-value < 0.05**, we reject H₀ and conclude that profit differences between genres are statistically significant.  \n",
    "- Otherwise, we fail to reject H₀ and conclude that there's no evidence of meaningful differences across genres."
   ]
  },
  {
   "cell_type": "code",
   "execution_count": 161,
   "metadata": {},
   "outputs": [
    {
     "name": "stdout",
     "output_type": "stream",
     "text": [
      "F-statistic: 3.831, p-value: 0.0000\n"
     ]
    }
   ],
   "source": [
    "import scipy.stats as stats\n",
    "\n",
    "genres = final_df['genres'].unique()\n",
    "profit_by_genre = [final_df[final_df['genres'] == genre]['profit'] for genre in genres]\n",
    "\n",
    "f_stat, p_value = stats.f_oneway(*profit_by_genre)\n",
    "print(f\"F-statistic: {f_stat:.3f}, p-value: {p_value:.4f}\")\n"
   ]
  },
  {
   "cell_type": "markdown",
   "metadata": {},
   "source": [
    "There are statistically significant differences in average profits according to film genres. In other words, certain genres tend to generate different levels of profit compared to others, and this difference is not due to random chance."
   ]
  },
  {
   "cell_type": "markdown",
   "metadata": {},
   "source": [
    "**D-Hypothesis**: \n",
    "- H₀:  There is no linear correlation between movie runtime and average rating\n",
    "\n",
    "- H₁: There is a positive linear correlation between movie runtime and average rating\n",
    "\n",
    "\n",
    "**Statistic**: Pearson correlation\n",
    "\n",
    "**Decision Rule**:\n",
    "- If the **p-value < 0.05**, we reject H₀ and conclude that a significant linear relationship exists between runtime and user rating.\n",
    "- Otherwise, we fail to reject H₀."
   ]
  },
  {
   "cell_type": "code",
   "execution_count": 162,
   "metadata": {},
   "outputs": [
    {
     "name": "stdout",
     "output_type": "stream",
     "text": [
      "Pearson correlation: 0.194, p-value: 0.0000\n"
     ]
    }
   ],
   "source": [
    "runtime = final_df['runtime_minutes']\n",
    "rating = final_df['averagerating']\n",
    "\n",
    "corr, p_value = pearsonr(runtime, rating)\n",
    "print(f\"Pearson correlation: {corr:.3f}, p-value: {p_value:.4f}\")"
   ]
  },
  {
   "cell_type": "markdown",
   "metadata": {},
   "source": [
    "The Pearson correlation of 0.194 indicates a weak positive relationship between a film’s duration (in minutes) and its average user rating.\n",
    "\n",
    "The very low p-value (below 0.05) shows that this correlation is statistically significant, meaning it is highly unlikely that this association is due to chance."
   ]
  },
  {
   "cell_type": "markdown",
   "metadata": {},
   "source": [
    "# **4-Business Recommendation 1**"
   ]
  },
  {
   "cell_type": "markdown",
   "metadata": {},
   "source": [
    "**Prioritize Strategic Investment in Higher-Budget Films**\n",
    "\n",
    "Allocate larger budgets to projects with high commercial potential such as well-known IPs, proven genres, or high-concept stories. However, ensure that high budgets are coupled with strong distribution and marketing strategies to minimize risk."
   ]
  },
  {
   "cell_type": "markdown",
   "metadata": {},
   "source": [
    "# **5-Business Recommendation 2**"
   ]
  },
  {
   "cell_type": "markdown",
   "metadata": {},
   "source": [
    "**Focus on High-Profit Genres for Maximum ROI**\n",
    "\n",
    "Prioritize genres such as Animation, Adventure, Sci-Fi, and Fantasy, which tend to deliver higher average profits. Avoid overexposing low-margin genres like Drama or Romance, unless supported by awards potential or critical acclaim."
   ]
  },
  {
   "cell_type": "markdown",
   "metadata": {},
   "source": [
    "# **6-Business Recommendation 3**"
   ]
  },
  {
   "cell_type": "markdown",
   "metadata": {},
   "source": [
    "**Optimize Film Runtime and Quality to Enhance Audience Reception**\n",
    "\n",
    "Aim for runtime between 100–120 minutes, which aligns with audience preferences.\n",
    "Focus on screenplay quality, casting, and editing to achieve higher IMDb ratings. Even a small gain in user rating can yield tangible revenue improvements.\n"
   ]
  },
  {
   "cell_type": "markdown",
   "metadata": {},
   "source": [
    "# **7-Conclusion**"
   ]
  },
  {
   "cell_type": "markdown",
   "metadata": {},
   "source": [
    "This project successfully applied data science and statistical reasoning to uncover the key factors that drive a film’s financial success.\n",
    "\n",
    "By analyzing over 3,000 movies from IMDB and Box Office Mojo, we derived evidence-based insights into what makes a film profitable:\n",
    "\n",
    "- **Production budget** is the strongest predictor of profit. High-budget films tend to yield significantly higher returns confirming that investing more strategically can pay off.\n",
    "- **Genre matters.** Certain genres such as Animation, Adventure, and Sci-Fi consistently outperform others, both commercially and critically.\n",
    "- **Audience perception influences performance.** Even though ratings and runtime show weaker correlations, they are statistically significant and contribute to success when combined with other factors.\n",
    "\n",
    "Through correlation analysis, ANOVA tests, and linear regression modeling, we transformed raw movie data into actionable recommendations. We now have a clear, data-driven framework for:\n",
    "\n",
    "- Prioritizing profitable genres  \n",
    "- Optimizing production budgets  \n",
    "- Enhancing movie formats and audience satisfaction\n",
    "\n",
    "This project demonstrates how a data-driven approach can **reduce financial risk, support creative decisions, and increase the chances of commercial success** for a new movie studio.\n",
    "\n",
    "The next step is to operationalize these insights through predictive tools, dashboards, and deeper multivariate modeling. With this foundation, the studio is now equipped to enter the market not with intuition but with intelligence.\n"
   ]
  },
  {
   "cell_type": "markdown",
   "metadata": {},
   "source": [
    "# **8-Next Steps**"
   ]
  },
  {
   "cell_type": "markdown",
   "metadata": {},
   "source": [
    "With the foundation of this analysis firmly established, the following strategic steps are recommended to move from insights to implementation:\n",
    "\n",
    "\n",
    "1- **Build a Multiple Linear Regression Model**\n",
    "\n",
    "- Extend the current simple model by incorporating more variables:\n",
    "  - Genre (encoded as dummies)\n",
    "  - Runtime\n",
    "  - Average Rating\n",
    "  - Number of Votes\n",
    "  - Release Year\n",
    "- This will improve explanatory power and capture interactions between variables.\n",
    "- Objective: **Predict profit more accurately** for any new film project.\n",
    "\n",
    "\n",
    "2- **Segment Modeling by Genre or Budget Tiers**\n",
    "\n",
    "- Create genre-specific or budget-tier-specific models:\n",
    "  - E.g., separate regression models for Animation vs Drama\n",
    "- Each genre behaves differently—custom models can provide more precise forecasts.\n",
    "- Objective: **Tailor investment strategies to genre-specific dynamics**.\n",
    "\n",
    "\n",
    "3- **Analyze Seasonal and Release Timing Effects**\n",
    "\n",
    "- Add variables such as:\n",
    "  - Release Month / Quarter\n",
    "  - Holiday vs Non-Holiday Releases\n",
    "- Identify patterns in timing that boost or hurt revenue.\n",
    "- Objective: **Optimize release calendars** for maximum audience reach and earnings.\n",
    "\n",
    "\n",
    "4- **Leverage Natural Language Processing (NLP)**\n",
    "\n",
    "- Apply NLP techniques to movie descriptions, summaries, or titles.\n",
    "- Extract themes, sentiments, or keywords and correlate them with profit or ratings.\n",
    "- Objective: **Discover narrative patterns linked to commercial success**.\n",
    "\n",
    "\n",
    "5- **Build an Interactive Prediction Tool (Dashboard)**\n",
    "\n",
    "- Use Power BI, Streamlit, or Tableau to:\n",
    "  - Simulate profit scenarios based on user inputs (budget, genre, rating, etc.)\n",
    "  - Visualize profitability forecasts in real time\n",
    "- Objective: **Empower decision-makers with a smart budgeting and forecasting tool**.\n",
    "\n",
    "\n",
    "6- **Include Marketing Spend and Distribution Channels (if available)**\n",
    "\n",
    "- Future data enrichment can include:\n",
    "  - Marketing budgets\n",
    "  - Platforms (cinema, streaming, hybrid)\n",
    "  - Star power metrics\n",
    "- Objective: **Control for visibility and promotion effects on success**.\n",
    "\n",
    "\n",
    "7- **Operationalize Findings into Greenlight Decision Rules**\n",
    "\n",
    "- Translate your insights into studio policies:\n",
    "  - Minimum budget for high-risk genres\n",
    "  - Required projected ROI threshold\n",
    "  - Runtime guidelines\n",
    "- Objective: **Make data part of the film selection and greenlighting process**.\n",
    "\n",
    "\n",
    "By following these steps, the studio can move from analysis to action—scaling its ability to **make smart, data-informed investments**, reduce risk, and **maximize creative and commercial success** in the film industry.\n"
   ]
  }
 ],
 "metadata": {
  "kernelspec": {
   "display_name": "Python (learn-env)",
   "language": "python",
   "name": "learn-env"
  },
  "language_info": {
   "codemirror_mode": {
    "name": "ipython",
    "version": 3
   },
   "file_extension": ".py",
   "mimetype": "text/x-python",
   "name": "python",
   "nbconvert_exporter": "python",
   "pygments_lexer": "ipython3",
   "version": "3.8.5"
  }
 },
 "nbformat": 4,
 "nbformat_minor": 4
}
